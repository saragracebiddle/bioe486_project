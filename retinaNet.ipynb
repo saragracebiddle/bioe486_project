{
 "cells": [
  {
   "cell_type": "code",
   "execution_count": 8,
   "id": "9489016d",
   "metadata": {},
   "outputs": [],
   "source": [
    "import pandas as pd\n",
    "import os\n",
    "import matplotlib.pyplot as plt\n",
    "from matplotlib.patches import Rectangle\n",
    "import numpy as np\n",
    "import cv2\n",
    "from preprocess import preprocessing\n",
    "#from read_mias import *\n",
    "import config\n",
    "from object_detector import ObjectDetector\n",
    "from custom_tensor_dataset import CustomTensorDataset\n",
    "from sklearn.preprocessing import LabelEncoder\n",
    "from torch.utils.data import DataLoader\n",
    "from torchvision import transforms\n",
    "from torch.nn import CrossEntropyLoss\n",
    "from torch.nn import MSELoss\n",
    "from torch.optim import Adam\n",
    "from torchvision.models import resnet50\n",
    "from sklearn.model_selection import train_test_split\n",
    "from imutils import paths\n",
    "import pickle\n",
    "import torch\n",
    "import torchvision\n",
    "from torchvision import transforms, datasets, models\n",
    "import torch\n",
    "from torchvision.models.detection.retinanet import RetinaNet, RetinaNet_ResNet50_FPN_V2_Weights\n",
    "import albumentations as A\n",
    "from albumentations.pytorch import ToTensorV2\n",
    "from custom_tensor_dataset import CustomTensorDataset\n",
    "from torchvision.models.detection.faster_rcnn import FastRCNNPredictor\n",
    "from torchvision.models.detection.faster_rcnn import FasterRCNN_ResNet50_FPN_Weights\n",
    "import random\n"
   ]
  },
  {
   "cell_type": "markdown",
   "id": "a0705143",
   "metadata": {},
   "source": [
    "https://debuggercafe.com/train-pytorch-retinanet-on-custom-dataset/#download-code\n",
    "\n"
   ]
  },
  {
   "cell_type": "code",
   "execution_count": 9,
   "id": "08b6f9bd",
   "metadata": {},
   "outputs": [
    {
     "data": {
      "text/html": [
       "<div>\n",
       "<style scoped>\n",
       "    .dataframe tbody tr th:only-of-type {\n",
       "        vertical-align: middle;\n",
       "    }\n",
       "\n",
       "    .dataframe tbody tr th {\n",
       "        vertical-align: top;\n",
       "    }\n",
       "\n",
       "    .dataframe thead th {\n",
       "        text-align: right;\n",
       "    }\n",
       "</style>\n",
       "<table border=\"1\" class=\"dataframe\">\n",
       "  <thead>\n",
       "    <tr style=\"text-align: right;\">\n",
       "      <th></th>\n",
       "      <th>refno</th>\n",
       "      <th>tissue</th>\n",
       "      <th>class</th>\n",
       "      <th>severity</th>\n",
       "      <th>x</th>\n",
       "      <th>y</th>\n",
       "      <th>r</th>\n",
       "      <th>image_id</th>\n",
       "    </tr>\n",
       "  </thead>\n",
       "  <tbody>\n",
       "    <tr>\n",
       "      <th>0</th>\n",
       "      <td>mdb001</td>\n",
       "      <td>G</td>\n",
       "      <td>CIRC</td>\n",
       "      <td>B</td>\n",
       "      <td>535</td>\n",
       "      <td>425</td>\n",
       "      <td>197.0</td>\n",
       "      <td>0</td>\n",
       "    </tr>\n",
       "    <tr>\n",
       "      <th>1</th>\n",
       "      <td>mdb002</td>\n",
       "      <td>G</td>\n",
       "      <td>CIRC</td>\n",
       "      <td>B</td>\n",
       "      <td>522</td>\n",
       "      <td>280</td>\n",
       "      <td>69.0</td>\n",
       "      <td>1</td>\n",
       "    </tr>\n",
       "    <tr>\n",
       "      <th>2</th>\n",
       "      <td>mdb003</td>\n",
       "      <td>D</td>\n",
       "      <td>NORM</td>\n",
       "      <td>N</td>\n",
       "      <td>NaN</td>\n",
       "      <td>NaN</td>\n",
       "      <td>NaN</td>\n",
       "      <td>2</td>\n",
       "    </tr>\n",
       "    <tr>\n",
       "      <th>3</th>\n",
       "      <td>mdb004</td>\n",
       "      <td>D</td>\n",
       "      <td>NORM</td>\n",
       "      <td>N</td>\n",
       "      <td>NaN</td>\n",
       "      <td>NaN</td>\n",
       "      <td>NaN</td>\n",
       "      <td>3</td>\n",
       "    </tr>\n",
       "    <tr>\n",
       "      <th>4</th>\n",
       "      <td>mdb005</td>\n",
       "      <td>F</td>\n",
       "      <td>CIRC</td>\n",
       "      <td>B</td>\n",
       "      <td>477</td>\n",
       "      <td>133</td>\n",
       "      <td>30.0</td>\n",
       "      <td>4</td>\n",
       "    </tr>\n",
       "  </tbody>\n",
       "</table>\n",
       "</div>"
      ],
      "text/plain": [
       "    refno tissue class severity    x    y      r  image_id\n",
       "0  mdb001      G  CIRC        B  535  425  197.0         0\n",
       "1  mdb002      G  CIRC        B  522  280   69.0         1\n",
       "2  mdb003      D  NORM        N  NaN  NaN    NaN         2\n",
       "3  mdb004      D  NORM        N  NaN  NaN    NaN         3\n",
       "4  mdb005      F  CIRC        B  477  133   30.0         4"
      ]
     },
     "execution_count": 9,
     "metadata": {},
     "output_type": "execute_result"
    }
   ],
   "source": [
    "dir = os.getcwd()\n",
    "info = pd.read_csv(dir +'/mias_info/labels.txt', sep = ' ', header = None)\n",
    "info.columns = ['refno', 'tissue', 'class', 'severity','x','y','r']\n",
    "info['severity'] = info['severity'].fillna('N')\n",
    "info['image_id'] = info.refno.str.split('b', expand = True)[1].astype(int) -1\n",
    "info.head()"
   ]
  },
  {
   "cell_type": "code",
   "execution_count": 10,
   "id": "c89aecfd",
   "metadata": {},
   "outputs": [],
   "source": [
    "bm = info[info['severity'] != 'N']['refno']\n",
    "notnormal = bm.tolist()\n",
    "\n",
    "for i, name in enumerate(notnormal):\n",
    "    notnormal[i] = name + '.pgm'"
   ]
  },
  {
   "cell_type": "code",
   "execution_count": 11,
   "id": "2349872f",
   "metadata": {},
   "outputs": [],
   "source": [
    "data_transform = A.Compose([\n",
    "\tA.Resize(512, 512),\n",
    "\tA.HorizontalFlip(p=0.5),\n",
    "\tA.Rotate(limit=15, p=1.0),\n",
    "\t#A.RandomBrightnessContrast(p=0.5),\n",
    "\tToTensorV2()\n",
    "], bbox_params=A.BboxParams(format='pascal_voc', label_fields=['labels']))\n"
   ]
  },
  {
   "cell_type": "code",
   "execution_count": 12,
   "id": "0fe59ded",
   "metadata": {},
   "outputs": [],
   "source": [
    "from custom_tensor_dataset import list_files_walk\n",
    "from retinaNetDataset import customDataset\n",
    "\n",
    "\n",
    "#all_imgs = list_files_walk('mias_data/')\n",
    "\n",
    "train, test = train_test_split(notnormal, test_size = 0.1, random_state = 42)\n",
    "train, valid = train_test_split(train, test_size = 0.2, random_state = 42)\n",
    "\n",
    "train_dataset = customDataset(imgs = train, transforms=data_transform)\n",
    "test_dataset = customDataset(imgs = test, transforms = data_transform)\n",
    "valid_dataset = customDataset(imgs = valid, transforms = data_transform)\n",
    "def collate_fn(batch):\n",
    "    return tuple(zip(*batch))\n",
    "\n",
    "train_dataloader = torch.utils.data.DataLoader(train_dataset,\n",
    "                                          batch_size = config.BATCH_SIZE,\n",
    "                                          shuffle = True,\n",
    "                                          collate_fn = collate_fn)\n",
    "\n",
    "valid_dataloader = torch.utils.data.DataLoader(test_dataset,\n",
    "                                          batch_size = config.BATCH_SIZE,\n",
    "                                          shuffle = False,\n",
    "                                          collate_fn = collate_fn)\n",
    "\n",
    "test_dataloader = torch.utils.data.DataLoader(test_dataset,\n",
    "                                          batch_size = config.BATCH_SIZE,\n",
    "                                          shuffle = False,\n",
    "                                          collate_fn = collate_fn)"
   ]
  },
  {
   "cell_type": "code",
   "execution_count": 13,
   "id": "bca8a4e8",
   "metadata": {},
   "outputs": [
    {
     "name": "stdout",
     "output_type": "stream",
     "text": [
      "cpu\n",
      "torch.float32\n",
      "[{'boxes': tensor([[141.1539, 200.6634, 148.3239, 207.8334],\n",
      "        [152.1913, 221.9521, 177.7985, 247.5593],\n",
      "        [263.9696, 147.6681, 272.1639, 155.8624]]), 'labels': tensor([1, 1, 1]), 'image_id': tensor([70]), 'area': tensor([0.0002, 0.0024, 0.0002])}, {'boxes': tensor([[260.8061, 217.0898, 333.2166, 289.5003]]), 'labels': tensor([2]), 'image_id': tensor([43]), 'area': tensor([0.0137])}, {'boxes': tensor([], size=(0, 4)), 'labels': tensor([], dtype=torch.int64), 'image_id': tensor([60]), 'area': tensor([nan])}, {'boxes': tensor([[245.3980, 114.6710, 277.7592, 147.0322]]), 'labels': tensor([2]), 'image_id': tensor([42]), 'area': tensor([0.0032])}]\n"
     ]
    }
   ],
   "source": [
    "device = torch.device('cuda') if torch.cuda.is_available() else torch.device('cpu')\n",
    "print(device)\n",
    "for imgs, annotations in train_dataloader:\n",
    "    imgs = list(img.to(device) for img in imgs)\n",
    "    print(imgs[0].dtype)\n",
    "    annotations = [{k: v.to(device) for k, v in t.items()} for t in annotations]\n",
    "    print(annotations)\n",
    "    break"
   ]
  },
  {
   "cell_type": "code",
   "execution_count": 14,
   "id": "dbd160df",
   "metadata": {},
   "outputs": [
    {
     "name": "stdout",
     "output_type": "stream",
     "text": [
      "RetinaNet(\n",
      "  (backbone): BackboneWithFPN(\n",
      "    (body): IntermediateLayerGetter(\n",
      "      (conv1): Conv2d(3, 64, kernel_size=(7, 7), stride=(2, 2), padding=(3, 3), bias=False)\n",
      "      (bn1): BatchNorm2d(64, eps=1e-05, momentum=0.1, affine=True, track_running_stats=True)\n",
      "      (relu): ReLU(inplace=True)\n",
      "      (maxpool): MaxPool2d(kernel_size=3, stride=2, padding=1, dilation=1, ceil_mode=False)\n",
      "      (layer1): Sequential(\n",
      "        (0): Bottleneck(\n",
      "          (conv1): Conv2d(64, 64, kernel_size=(1, 1), stride=(1, 1), bias=False)\n",
      "          (bn1): BatchNorm2d(64, eps=1e-05, momentum=0.1, affine=True, track_running_stats=True)\n",
      "          (conv2): Conv2d(64, 64, kernel_size=(3, 3), stride=(1, 1), padding=(1, 1), bias=False)\n",
      "          (bn2): BatchNorm2d(64, eps=1e-05, momentum=0.1, affine=True, track_running_stats=True)\n",
      "          (conv3): Conv2d(64, 256, kernel_size=(1, 1), stride=(1, 1), bias=False)\n",
      "          (bn3): BatchNorm2d(256, eps=1e-05, momentum=0.1, affine=True, track_running_stats=True)\n",
      "          (relu): ReLU(inplace=True)\n",
      "          (downsample): Sequential(\n",
      "            (0): Conv2d(64, 256, kernel_size=(1, 1), stride=(1, 1), bias=False)\n",
      "            (1): BatchNorm2d(256, eps=1e-05, momentum=0.1, affine=True, track_running_stats=True)\n",
      "          )\n",
      "        )\n",
      "        (1): Bottleneck(\n",
      "          (conv1): Conv2d(256, 64, kernel_size=(1, 1), stride=(1, 1), bias=False)\n",
      "          (bn1): BatchNorm2d(64, eps=1e-05, momentum=0.1, affine=True, track_running_stats=True)\n",
      "          (conv2): Conv2d(64, 64, kernel_size=(3, 3), stride=(1, 1), padding=(1, 1), bias=False)\n",
      "          (bn2): BatchNorm2d(64, eps=1e-05, momentum=0.1, affine=True, track_running_stats=True)\n",
      "          (conv3): Conv2d(64, 256, kernel_size=(1, 1), stride=(1, 1), bias=False)\n",
      "          (bn3): BatchNorm2d(256, eps=1e-05, momentum=0.1, affine=True, track_running_stats=True)\n",
      "          (relu): ReLU(inplace=True)\n",
      "        )\n",
      "        (2): Bottleneck(\n",
      "          (conv1): Conv2d(256, 64, kernel_size=(1, 1), stride=(1, 1), bias=False)\n",
      "          (bn1): BatchNorm2d(64, eps=1e-05, momentum=0.1, affine=True, track_running_stats=True)\n",
      "          (conv2): Conv2d(64, 64, kernel_size=(3, 3), stride=(1, 1), padding=(1, 1), bias=False)\n",
      "          (bn2): BatchNorm2d(64, eps=1e-05, momentum=0.1, affine=True, track_running_stats=True)\n",
      "          (conv3): Conv2d(64, 256, kernel_size=(1, 1), stride=(1, 1), bias=False)\n",
      "          (bn3): BatchNorm2d(256, eps=1e-05, momentum=0.1, affine=True, track_running_stats=True)\n",
      "          (relu): ReLU(inplace=True)\n",
      "        )\n",
      "      )\n",
      "      (layer2): Sequential(\n",
      "        (0): Bottleneck(\n",
      "          (conv1): Conv2d(256, 128, kernel_size=(1, 1), stride=(1, 1), bias=False)\n",
      "          (bn1): BatchNorm2d(128, eps=1e-05, momentum=0.1, affine=True, track_running_stats=True)\n",
      "          (conv2): Conv2d(128, 128, kernel_size=(3, 3), stride=(2, 2), padding=(1, 1), bias=False)\n",
      "          (bn2): BatchNorm2d(128, eps=1e-05, momentum=0.1, affine=True, track_running_stats=True)\n",
      "          (conv3): Conv2d(128, 512, kernel_size=(1, 1), stride=(1, 1), bias=False)\n",
      "          (bn3): BatchNorm2d(512, eps=1e-05, momentum=0.1, affine=True, track_running_stats=True)\n",
      "          (relu): ReLU(inplace=True)\n",
      "          (downsample): Sequential(\n",
      "            (0): Conv2d(256, 512, kernel_size=(1, 1), stride=(2, 2), bias=False)\n",
      "            (1): BatchNorm2d(512, eps=1e-05, momentum=0.1, affine=True, track_running_stats=True)\n",
      "          )\n",
      "        )\n",
      "        (1): Bottleneck(\n",
      "          (conv1): Conv2d(512, 128, kernel_size=(1, 1), stride=(1, 1), bias=False)\n",
      "          (bn1): BatchNorm2d(128, eps=1e-05, momentum=0.1, affine=True, track_running_stats=True)\n",
      "          (conv2): Conv2d(128, 128, kernel_size=(3, 3), stride=(1, 1), padding=(1, 1), bias=False)\n",
      "          (bn2): BatchNorm2d(128, eps=1e-05, momentum=0.1, affine=True, track_running_stats=True)\n",
      "          (conv3): Conv2d(128, 512, kernel_size=(1, 1), stride=(1, 1), bias=False)\n",
      "          (bn3): BatchNorm2d(512, eps=1e-05, momentum=0.1, affine=True, track_running_stats=True)\n",
      "          (relu): ReLU(inplace=True)\n",
      "        )\n",
      "        (2): Bottleneck(\n",
      "          (conv1): Conv2d(512, 128, kernel_size=(1, 1), stride=(1, 1), bias=False)\n",
      "          (bn1): BatchNorm2d(128, eps=1e-05, momentum=0.1, affine=True, track_running_stats=True)\n",
      "          (conv2): Conv2d(128, 128, kernel_size=(3, 3), stride=(1, 1), padding=(1, 1), bias=False)\n",
      "          (bn2): BatchNorm2d(128, eps=1e-05, momentum=0.1, affine=True, track_running_stats=True)\n",
      "          (conv3): Conv2d(128, 512, kernel_size=(1, 1), stride=(1, 1), bias=False)\n",
      "          (bn3): BatchNorm2d(512, eps=1e-05, momentum=0.1, affine=True, track_running_stats=True)\n",
      "          (relu): ReLU(inplace=True)\n",
      "        )\n",
      "        (3): Bottleneck(\n",
      "          (conv1): Conv2d(512, 128, kernel_size=(1, 1), stride=(1, 1), bias=False)\n",
      "          (bn1): BatchNorm2d(128, eps=1e-05, momentum=0.1, affine=True, track_running_stats=True)\n",
      "          (conv2): Conv2d(128, 128, kernel_size=(3, 3), stride=(1, 1), padding=(1, 1), bias=False)\n",
      "          (bn2): BatchNorm2d(128, eps=1e-05, momentum=0.1, affine=True, track_running_stats=True)\n",
      "          (conv3): Conv2d(128, 512, kernel_size=(1, 1), stride=(1, 1), bias=False)\n",
      "          (bn3): BatchNorm2d(512, eps=1e-05, momentum=0.1, affine=True, track_running_stats=True)\n",
      "          (relu): ReLU(inplace=True)\n",
      "        )\n",
      "      )\n",
      "      (layer3): Sequential(\n",
      "        (0): Bottleneck(\n",
      "          (conv1): Conv2d(512, 256, kernel_size=(1, 1), stride=(1, 1), bias=False)\n",
      "          (bn1): BatchNorm2d(256, eps=1e-05, momentum=0.1, affine=True, track_running_stats=True)\n",
      "          (conv2): Conv2d(256, 256, kernel_size=(3, 3), stride=(2, 2), padding=(1, 1), bias=False)\n",
      "          (bn2): BatchNorm2d(256, eps=1e-05, momentum=0.1, affine=True, track_running_stats=True)\n",
      "          (conv3): Conv2d(256, 1024, kernel_size=(1, 1), stride=(1, 1), bias=False)\n",
      "          (bn3): BatchNorm2d(1024, eps=1e-05, momentum=0.1, affine=True, track_running_stats=True)\n",
      "          (relu): ReLU(inplace=True)\n",
      "          (downsample): Sequential(\n",
      "            (0): Conv2d(512, 1024, kernel_size=(1, 1), stride=(2, 2), bias=False)\n",
      "            (1): BatchNorm2d(1024, eps=1e-05, momentum=0.1, affine=True, track_running_stats=True)\n",
      "          )\n",
      "        )\n",
      "        (1): Bottleneck(\n",
      "          (conv1): Conv2d(1024, 256, kernel_size=(1, 1), stride=(1, 1), bias=False)\n",
      "          (bn1): BatchNorm2d(256, eps=1e-05, momentum=0.1, affine=True, track_running_stats=True)\n",
      "          (conv2): Conv2d(256, 256, kernel_size=(3, 3), stride=(1, 1), padding=(1, 1), bias=False)\n",
      "          (bn2): BatchNorm2d(256, eps=1e-05, momentum=0.1, affine=True, track_running_stats=True)\n",
      "          (conv3): Conv2d(256, 1024, kernel_size=(1, 1), stride=(1, 1), bias=False)\n",
      "          (bn3): BatchNorm2d(1024, eps=1e-05, momentum=0.1, affine=True, track_running_stats=True)\n",
      "          (relu): ReLU(inplace=True)\n",
      "        )\n",
      "        (2): Bottleneck(\n",
      "          (conv1): Conv2d(1024, 256, kernel_size=(1, 1), stride=(1, 1), bias=False)\n",
      "          (bn1): BatchNorm2d(256, eps=1e-05, momentum=0.1, affine=True, track_running_stats=True)\n",
      "          (conv2): Conv2d(256, 256, kernel_size=(3, 3), stride=(1, 1), padding=(1, 1), bias=False)\n",
      "          (bn2): BatchNorm2d(256, eps=1e-05, momentum=0.1, affine=True, track_running_stats=True)\n",
      "          (conv3): Conv2d(256, 1024, kernel_size=(1, 1), stride=(1, 1), bias=False)\n",
      "          (bn3): BatchNorm2d(1024, eps=1e-05, momentum=0.1, affine=True, track_running_stats=True)\n",
      "          (relu): ReLU(inplace=True)\n",
      "        )\n",
      "        (3): Bottleneck(\n",
      "          (conv1): Conv2d(1024, 256, kernel_size=(1, 1), stride=(1, 1), bias=False)\n",
      "          (bn1): BatchNorm2d(256, eps=1e-05, momentum=0.1, affine=True, track_running_stats=True)\n",
      "          (conv2): Conv2d(256, 256, kernel_size=(3, 3), stride=(1, 1), padding=(1, 1), bias=False)\n",
      "          (bn2): BatchNorm2d(256, eps=1e-05, momentum=0.1, affine=True, track_running_stats=True)\n",
      "          (conv3): Conv2d(256, 1024, kernel_size=(1, 1), stride=(1, 1), bias=False)\n",
      "          (bn3): BatchNorm2d(1024, eps=1e-05, momentum=0.1, affine=True, track_running_stats=True)\n",
      "          (relu): ReLU(inplace=True)\n",
      "        )\n",
      "        (4): Bottleneck(\n",
      "          (conv1): Conv2d(1024, 256, kernel_size=(1, 1), stride=(1, 1), bias=False)\n",
      "          (bn1): BatchNorm2d(256, eps=1e-05, momentum=0.1, affine=True, track_running_stats=True)\n",
      "          (conv2): Conv2d(256, 256, kernel_size=(3, 3), stride=(1, 1), padding=(1, 1), bias=False)\n",
      "          (bn2): BatchNorm2d(256, eps=1e-05, momentum=0.1, affine=True, track_running_stats=True)\n",
      "          (conv3): Conv2d(256, 1024, kernel_size=(1, 1), stride=(1, 1), bias=False)\n",
      "          (bn3): BatchNorm2d(1024, eps=1e-05, momentum=0.1, affine=True, track_running_stats=True)\n",
      "          (relu): ReLU(inplace=True)\n",
      "        )\n",
      "        (5): Bottleneck(\n",
      "          (conv1): Conv2d(1024, 256, kernel_size=(1, 1), stride=(1, 1), bias=False)\n",
      "          (bn1): BatchNorm2d(256, eps=1e-05, momentum=0.1, affine=True, track_running_stats=True)\n",
      "          (conv2): Conv2d(256, 256, kernel_size=(3, 3), stride=(1, 1), padding=(1, 1), bias=False)\n",
      "          (bn2): BatchNorm2d(256, eps=1e-05, momentum=0.1, affine=True, track_running_stats=True)\n",
      "          (conv3): Conv2d(256, 1024, kernel_size=(1, 1), stride=(1, 1), bias=False)\n",
      "          (bn3): BatchNorm2d(1024, eps=1e-05, momentum=0.1, affine=True, track_running_stats=True)\n",
      "          (relu): ReLU(inplace=True)\n",
      "        )\n",
      "      )\n",
      "      (layer4): Sequential(\n",
      "        (0): Bottleneck(\n",
      "          (conv1): Conv2d(1024, 512, kernel_size=(1, 1), stride=(1, 1), bias=False)\n",
      "          (bn1): BatchNorm2d(512, eps=1e-05, momentum=0.1, affine=True, track_running_stats=True)\n",
      "          (conv2): Conv2d(512, 512, kernel_size=(3, 3), stride=(2, 2), padding=(1, 1), bias=False)\n",
      "          (bn2): BatchNorm2d(512, eps=1e-05, momentum=0.1, affine=True, track_running_stats=True)\n",
      "          (conv3): Conv2d(512, 2048, kernel_size=(1, 1), stride=(1, 1), bias=False)\n",
      "          (bn3): BatchNorm2d(2048, eps=1e-05, momentum=0.1, affine=True, track_running_stats=True)\n",
      "          (relu): ReLU(inplace=True)\n",
      "          (downsample): Sequential(\n",
      "            (0): Conv2d(1024, 2048, kernel_size=(1, 1), stride=(2, 2), bias=False)\n",
      "            (1): BatchNorm2d(2048, eps=1e-05, momentum=0.1, affine=True, track_running_stats=True)\n",
      "          )\n",
      "        )\n",
      "        (1): Bottleneck(\n",
      "          (conv1): Conv2d(2048, 512, kernel_size=(1, 1), stride=(1, 1), bias=False)\n",
      "          (bn1): BatchNorm2d(512, eps=1e-05, momentum=0.1, affine=True, track_running_stats=True)\n",
      "          (conv2): Conv2d(512, 512, kernel_size=(3, 3), stride=(1, 1), padding=(1, 1), bias=False)\n",
      "          (bn2): BatchNorm2d(512, eps=1e-05, momentum=0.1, affine=True, track_running_stats=True)\n",
      "          (conv3): Conv2d(512, 2048, kernel_size=(1, 1), stride=(1, 1), bias=False)\n",
      "          (bn3): BatchNorm2d(2048, eps=1e-05, momentum=0.1, affine=True, track_running_stats=True)\n",
      "          (relu): ReLU(inplace=True)\n",
      "        )\n",
      "        (2): Bottleneck(\n",
      "          (conv1): Conv2d(2048, 512, kernel_size=(1, 1), stride=(1, 1), bias=False)\n",
      "          (bn1): BatchNorm2d(512, eps=1e-05, momentum=0.1, affine=True, track_running_stats=True)\n",
      "          (conv2): Conv2d(512, 512, kernel_size=(3, 3), stride=(1, 1), padding=(1, 1), bias=False)\n",
      "          (bn2): BatchNorm2d(512, eps=1e-05, momentum=0.1, affine=True, track_running_stats=True)\n",
      "          (conv3): Conv2d(512, 2048, kernel_size=(1, 1), stride=(1, 1), bias=False)\n",
      "          (bn3): BatchNorm2d(2048, eps=1e-05, momentum=0.1, affine=True, track_running_stats=True)\n",
      "          (relu): ReLU(inplace=True)\n",
      "        )\n",
      "      )\n",
      "    )\n",
      "    (fpn): FeaturePyramidNetwork(\n",
      "      (inner_blocks): ModuleList(\n",
      "        (0): Conv2dNormActivation(\n",
      "          (0): Conv2d(512, 256, kernel_size=(1, 1), stride=(1, 1))\n",
      "        )\n",
      "        (1): Conv2dNormActivation(\n",
      "          (0): Conv2d(1024, 256, kernel_size=(1, 1), stride=(1, 1))\n",
      "        )\n",
      "        (2): Conv2dNormActivation(\n",
      "          (0): Conv2d(2048, 256, kernel_size=(1, 1), stride=(1, 1))\n",
      "        )\n",
      "      )\n",
      "      (layer_blocks): ModuleList(\n",
      "        (0-2): 3 x Conv2dNormActivation(\n",
      "          (0): Conv2d(256, 256, kernel_size=(3, 3), stride=(1, 1), padding=(1, 1))\n",
      "        )\n",
      "      )\n",
      "      (extra_blocks): LastLevelP6P7(\n",
      "        (p6): Conv2d(2048, 256, kernel_size=(3, 3), stride=(2, 2), padding=(1, 1))\n",
      "        (p7): Conv2d(256, 256, kernel_size=(3, 3), stride=(2, 2), padding=(1, 1))\n",
      "      )\n",
      "    )\n",
      "  )\n",
      "  (anchor_generator): AnchorGenerator()\n",
      "  (head): RetinaNetHead(\n",
      "    (classification_head): RetinaNetClassificationHead(\n",
      "      (conv): Sequential(\n",
      "        (0): Conv2dNormActivation(\n",
      "          (0): Conv2d(256, 256, kernel_size=(3, 3), stride=(1, 1), padding=(1, 1), bias=False)\n",
      "          (1): GroupNorm(32, 256, eps=1e-05, affine=True)\n",
      "          (2): ReLU(inplace=True)\n",
      "        )\n",
      "        (1): Conv2dNormActivation(\n",
      "          (0): Conv2d(256, 256, kernel_size=(3, 3), stride=(1, 1), padding=(1, 1), bias=False)\n",
      "          (1): GroupNorm(32, 256, eps=1e-05, affine=True)\n",
      "          (2): ReLU(inplace=True)\n",
      "        )\n",
      "        (2): Conv2dNormActivation(\n",
      "          (0): Conv2d(256, 256, kernel_size=(3, 3), stride=(1, 1), padding=(1, 1), bias=False)\n",
      "          (1): GroupNorm(32, 256, eps=1e-05, affine=True)\n",
      "          (2): ReLU(inplace=True)\n",
      "        )\n",
      "        (3): Conv2dNormActivation(\n",
      "          (0): Conv2d(256, 256, kernel_size=(3, 3), stride=(1, 1), padding=(1, 1), bias=False)\n",
      "          (1): GroupNorm(32, 256, eps=1e-05, affine=True)\n",
      "          (2): ReLU(inplace=True)\n",
      "        )\n",
      "      )\n",
      "      (cls_logits): Conv2d(256, 27, kernel_size=(3, 3), stride=(1, 1), padding=(1, 1))\n",
      "    )\n",
      "    (regression_head): RetinaNetRegressionHead(\n",
      "      (conv): Sequential(\n",
      "        (0): Conv2dNormActivation(\n",
      "          (0): Conv2d(256, 256, kernel_size=(3, 3), stride=(1, 1), padding=(1, 1), bias=False)\n",
      "          (1): GroupNorm(32, 256, eps=1e-05, affine=True)\n",
      "          (2): ReLU(inplace=True)\n",
      "        )\n",
      "        (1): Conv2dNormActivation(\n",
      "          (0): Conv2d(256, 256, kernel_size=(3, 3), stride=(1, 1), padding=(1, 1), bias=False)\n",
      "          (1): GroupNorm(32, 256, eps=1e-05, affine=True)\n",
      "          (2): ReLU(inplace=True)\n",
      "        )\n",
      "        (2): Conv2dNormActivation(\n",
      "          (0): Conv2d(256, 256, kernel_size=(3, 3), stride=(1, 1), padding=(1, 1), bias=False)\n",
      "          (1): GroupNorm(32, 256, eps=1e-05, affine=True)\n",
      "          (2): ReLU(inplace=True)\n",
      "        )\n",
      "        (3): Conv2dNormActivation(\n",
      "          (0): Conv2d(256, 256, kernel_size=(3, 3), stride=(1, 1), padding=(1, 1), bias=False)\n",
      "          (1): GroupNorm(32, 256, eps=1e-05, affine=True)\n",
      "          (2): ReLU(inplace=True)\n",
      "        )\n",
      "      )\n",
      "      (bbox_reg): Conv2d(256, 36, kernel_size=(3, 3), stride=(1, 1), padding=(1, 1))\n",
      "    )\n",
      "  )\n",
      "  (transform): GeneralizedRCNNTransform(\n",
      "      Normalize(mean=[0.485, 0.456, 0.406], std=[0.229, 0.224, 0.225])\n",
      "      Resize(min_size=(800,), max_size=1333, mode='bilinear')\n",
      "  )\n",
      ")\n"
     ]
    }
   ],
   "source": [
    "from retina_model import create_model\n",
    "import config_retina\n",
    "\n",
    "model = create_model(config_retina.NUM_CLASSES)\n",
    "\n",
    "print(model)\n"
   ]
  },
  {
   "cell_type": "code",
   "execution_count": 15,
   "id": "2418b1a1",
   "metadata": {},
   "outputs": [
    {
     "name": "stderr",
     "output_type": "stream",
     "text": [
      "c:\\Users\\Student\\bioe486\\envs\\Lib\\site-packages\\tqdm\\auto.py:21: TqdmWarning: IProgress not found. Please update jupyter and ipywidgets. See https://ipywidgets.readthedocs.io/en/stable/user_install.html\n",
      "  from .autonotebook import tqdm as notebook_tqdm\n",
      "100%|██████████| 22/22 [03:23<00:00,  9.24s/it]\n"
     ]
    },
    {
     "name": "stdout",
     "output_type": "stream",
     "text": [
      "Epoch 1/20, Loss: 34.961042523384094\n"
     ]
    },
    {
     "name": "stderr",
     "output_type": "stream",
     "text": [
      "100%|██████████| 4/4 [00:11<00:00,  2.81s/it]\n"
     ]
    },
    {
     "name": "stdout",
     "output_type": "stream",
     "text": [
      "\t mAP: 0.0\n",
      "\t mAP50: 0.0\n"
     ]
    },
    {
     "name": "stderr",
     "output_type": "stream",
     "text": [
      "100%|██████████| 22/22 [03:22<00:00,  9.19s/it]\n"
     ]
    },
    {
     "name": "stdout",
     "output_type": "stream",
     "text": [
      "Epoch 2/20, Loss: 32.324490666389465\n"
     ]
    },
    {
     "name": "stderr",
     "output_type": "stream",
     "text": [
      "100%|██████████| 4/4 [00:11<00:00,  2.75s/it]\n"
     ]
    },
    {
     "name": "stdout",
     "output_type": "stream",
     "text": [
      "\t mAP: 0.0\n",
      "\t mAP50: 0.0\n"
     ]
    },
    {
     "name": "stderr",
     "output_type": "stream",
     "text": [
      "100%|██████████| 22/22 [03:21<00:00,  9.14s/it]\n"
     ]
    },
    {
     "name": "stdout",
     "output_type": "stream",
     "text": [
      "Epoch 3/20, Loss: 32.767114877700806\n"
     ]
    },
    {
     "name": "stderr",
     "output_type": "stream",
     "text": [
      "100%|██████████| 4/4 [00:10<00:00,  2.74s/it]\n"
     ]
    },
    {
     "name": "stdout",
     "output_type": "stream",
     "text": [
      "\t mAP: 0.0\n",
      "\t mAP50: 0.0\n"
     ]
    },
    {
     "name": "stderr",
     "output_type": "stream",
     "text": [
      "100%|██████████| 22/22 [03:21<00:00,  9.16s/it]\n"
     ]
    },
    {
     "name": "stdout",
     "output_type": "stream",
     "text": [
      "Epoch 4/20, Loss: 31.940948247909546\n"
     ]
    },
    {
     "name": "stderr",
     "output_type": "stream",
     "text": [
      "100%|██████████| 4/4 [00:10<00:00,  2.72s/it]\n"
     ]
    },
    {
     "name": "stdout",
     "output_type": "stream",
     "text": [
      "\t mAP: 0.0\n",
      "\t mAP50: 0.0\n"
     ]
    },
    {
     "name": "stderr",
     "output_type": "stream",
     "text": [
      "100%|██████████| 22/22 [03:22<00:00,  9.21s/it]\n"
     ]
    },
    {
     "name": "stdout",
     "output_type": "stream",
     "text": [
      "Epoch 5/20, Loss: 30.990381360054016\n"
     ]
    },
    {
     "name": "stderr",
     "output_type": "stream",
     "text": [
      "100%|██████████| 4/4 [00:11<00:00,  2.76s/it]\n"
     ]
    },
    {
     "name": "stdout",
     "output_type": "stream",
     "text": [
      "\t mAP: 0.0\n",
      "\t mAP50: 0.0\n"
     ]
    },
    {
     "name": "stderr",
     "output_type": "stream",
     "text": [
      "100%|██████████| 22/22 [03:21<00:00,  9.17s/it]\n"
     ]
    },
    {
     "name": "stdout",
     "output_type": "stream",
     "text": [
      "Epoch 6/20, Loss: 27.704405546188354\n"
     ]
    },
    {
     "name": "stderr",
     "output_type": "stream",
     "text": [
      "100%|██████████| 4/4 [00:11<00:00,  2.77s/it]\n",
      "c:\\Users\\Student\\bioe486\\envs\\Lib\\site-packages\\torchmetrics\\utilities\\prints.py:43: UserWarning: Encountered more than 100 detections in a single image. This means that certain detections with the lowest scores will be ignored, that may have an undesirable impact on performance. Please consider adjusting the `max_detection_threshold` to suit your use case. To disable this warning, set attribute class `warn_on_many_detections=False`, after initializing the metric.\n",
      "  warnings.warn(*args, **kwargs)\n"
     ]
    },
    {
     "name": "stdout",
     "output_type": "stream",
     "text": [
      "\t mAP: 0.046977803111076355\n",
      "\t mAP50: 0.061905067414045334\n"
     ]
    },
    {
     "name": "stderr",
     "output_type": "stream",
     "text": [
      "100%|██████████| 22/22 [03:21<00:00,  9.17s/it]\n"
     ]
    },
    {
     "name": "stdout",
     "output_type": "stream",
     "text": [
      "Epoch 7/20, Loss: 28.563351213932037\n"
     ]
    },
    {
     "name": "stderr",
     "output_type": "stream",
     "text": [
      "100%|██████████| 4/4 [00:10<00:00,  2.74s/it]\n",
      "c:\\Users\\Student\\bioe486\\envs\\Lib\\site-packages\\torchmetrics\\utilities\\prints.py:43: UserWarning: Encountered more than 100 detections in a single image. This means that certain detections with the lowest scores will be ignored, that may have an undesirable impact on performance. Please consider adjusting the `max_detection_threshold` to suit your use case. To disable this warning, set attribute class `warn_on_many_detections=False`, after initializing the metric.\n",
      "  warnings.warn(*args, **kwargs)\n"
     ]
    },
    {
     "name": "stdout",
     "output_type": "stream",
     "text": [
      "\t mAP: 0.0027889341581612825\n",
      "\t mAP50: 0.013339214026927948\n"
     ]
    },
    {
     "name": "stderr",
     "output_type": "stream",
     "text": [
      "100%|██████████| 22/22 [03:21<00:00,  9.16s/it]\n"
     ]
    },
    {
     "name": "stdout",
     "output_type": "stream",
     "text": [
      "Epoch 8/20, Loss: 25.44485431909561\n"
     ]
    },
    {
     "name": "stderr",
     "output_type": "stream",
     "text": [
      "100%|██████████| 4/4 [00:10<00:00,  2.72s/it]\n"
     ]
    },
    {
     "name": "stdout",
     "output_type": "stream",
     "text": [
      "\t mAP: 0.0\n",
      "\t mAP50: 0.0\n"
     ]
    },
    {
     "name": "stderr",
     "output_type": "stream",
     "text": [
      "100%|██████████| 22/22 [03:22<00:00,  9.19s/it]\n"
     ]
    },
    {
     "name": "stdout",
     "output_type": "stream",
     "text": [
      "Epoch 9/20, Loss: 37.5773891210556\n"
     ]
    },
    {
     "name": "stderr",
     "output_type": "stream",
     "text": [
      "100%|██████████| 4/4 [00:10<00:00,  2.72s/it]\n",
      "c:\\Users\\Student\\bioe486\\envs\\Lib\\site-packages\\torchmetrics\\utilities\\prints.py:43: UserWarning: Encountered more than 100 detections in a single image. This means that certain detections with the lowest scores will be ignored, that may have an undesirable impact on performance. Please consider adjusting the `max_detection_threshold` to suit your use case. To disable this warning, set attribute class `warn_on_many_detections=False`, after initializing the metric.\n",
      "  warnings.warn(*args, **kwargs)\n"
     ]
    },
    {
     "name": "stdout",
     "output_type": "stream",
     "text": [
      "\t mAP: 0.0\n",
      "\t mAP50: 0.0\n"
     ]
    },
    {
     "name": "stderr",
     "output_type": "stream",
     "text": [
      "100%|██████████| 22/22 [03:21<00:00,  9.16s/it]\n"
     ]
    },
    {
     "name": "stdout",
     "output_type": "stream",
     "text": [
      "Epoch 10/20, Loss: 36.41201841831207\n"
     ]
    },
    {
     "name": "stderr",
     "output_type": "stream",
     "text": [
      "100%|██████████| 4/4 [00:11<00:00,  2.76s/it]\n"
     ]
    },
    {
     "name": "stdout",
     "output_type": "stream",
     "text": [
      "\t mAP: 0.0\n",
      "\t mAP50: 0.0\n"
     ]
    },
    {
     "name": "stderr",
     "output_type": "stream",
     "text": [
      "100%|██████████| 22/22 [03:20<00:00,  9.11s/it]\n"
     ]
    },
    {
     "name": "stdout",
     "output_type": "stream",
     "text": [
      "Epoch 11/20, Loss: 31.05441641807556\n"
     ]
    },
    {
     "name": "stderr",
     "output_type": "stream",
     "text": [
      "100%|██████████| 4/4 [00:10<00:00,  2.72s/it]\n"
     ]
    },
    {
     "name": "stdout",
     "output_type": "stream",
     "text": [
      "\t mAP: 0.0\n",
      "\t mAP50: 0.0\n"
     ]
    },
    {
     "name": "stderr",
     "output_type": "stream",
     "text": [
      "100%|██████████| 22/22 [03:21<00:00,  9.16s/it]\n"
     ]
    },
    {
     "name": "stdout",
     "output_type": "stream",
     "text": [
      "Epoch 12/20, Loss: 27.697409868240356\n"
     ]
    },
    {
     "name": "stderr",
     "output_type": "stream",
     "text": [
      "100%|██████████| 4/4 [00:10<00:00,  2.70s/it]\n",
      "c:\\Users\\Student\\bioe486\\envs\\Lib\\site-packages\\torchmetrics\\utilities\\prints.py:43: UserWarning: Encountered more than 100 detections in a single image. This means that certain detections with the lowest scores will be ignored, that may have an undesirable impact on performance. Please consider adjusting the `max_detection_threshold` to suit your use case. To disable this warning, set attribute class `warn_on_many_detections=False`, after initializing the metric.\n",
      "  warnings.warn(*args, **kwargs)\n"
     ]
    },
    {
     "name": "stdout",
     "output_type": "stream",
     "text": [
      "\t mAP: 0.0032098882365971804\n",
      "\t mAP50: 0.010519801639020443\n"
     ]
    },
    {
     "name": "stderr",
     "output_type": "stream",
     "text": [
      "100%|██████████| 22/22 [03:17<00:00,  8.99s/it]\n"
     ]
    },
    {
     "name": "stdout",
     "output_type": "stream",
     "text": [
      "Epoch 13/20, Loss: 24.5545933842659\n"
     ]
    },
    {
     "name": "stderr",
     "output_type": "stream",
     "text": [
      "100%|██████████| 4/4 [00:10<00:00,  2.66s/it]\n",
      "c:\\Users\\Student\\bioe486\\envs\\Lib\\site-packages\\torchmetrics\\utilities\\prints.py:43: UserWarning: Encountered more than 100 detections in a single image. This means that certain detections with the lowest scores will be ignored, that may have an undesirable impact on performance. Please consider adjusting the `max_detection_threshold` to suit your use case. To disable this warning, set attribute class `warn_on_many_detections=False`, after initializing the metric.\n",
      "  warnings.warn(*args, **kwargs)\n"
     ]
    },
    {
     "name": "stdout",
     "output_type": "stream",
     "text": [
      "\t mAP: 0.018133848905563354\n",
      "\t mAP50: 0.047594163566827774\n"
     ]
    },
    {
     "name": "stderr",
     "output_type": "stream",
     "text": [
      "100%|██████████| 22/22 [03:16<00:00,  8.93s/it]\n"
     ]
    },
    {
     "name": "stdout",
     "output_type": "stream",
     "text": [
      "Epoch 14/20, Loss: 23.424432039260864\n"
     ]
    },
    {
     "name": "stderr",
     "output_type": "stream",
     "text": [
      "100%|██████████| 4/4 [00:10<00:00,  2.70s/it]\n",
      "c:\\Users\\Student\\bioe486\\envs\\Lib\\site-packages\\torchmetrics\\utilities\\prints.py:43: UserWarning: Encountered more than 100 detections in a single image. This means that certain detections with the lowest scores will be ignored, that may have an undesirable impact on performance. Please consider adjusting the `max_detection_threshold` to suit your use case. To disable this warning, set attribute class `warn_on_many_detections=False`, after initializing the metric.\n",
      "  warnings.warn(*args, **kwargs)\n"
     ]
    },
    {
     "name": "stdout",
     "output_type": "stream",
     "text": [
      "\t mAP: 0.027018724009394646\n",
      "\t mAP50: 0.0568021796643734\n"
     ]
    },
    {
     "name": "stderr",
     "output_type": "stream",
     "text": [
      "100%|██████████| 22/22 [03:15<00:00,  8.88s/it]\n"
     ]
    },
    {
     "name": "stdout",
     "output_type": "stream",
     "text": [
      "Epoch 15/20, Loss: 23.95055252313614\n"
     ]
    },
    {
     "name": "stderr",
     "output_type": "stream",
     "text": [
      "100%|██████████| 4/4 [00:10<00:00,  2.65s/it]\n",
      "c:\\Users\\Student\\bioe486\\envs\\Lib\\site-packages\\torchmetrics\\utilities\\prints.py:43: UserWarning: Encountered more than 100 detections in a single image. This means that certain detections with the lowest scores will be ignored, that may have an undesirable impact on performance. Please consider adjusting the `max_detection_threshold` to suit your use case. To disable this warning, set attribute class `warn_on_many_detections=False`, after initializing the metric.\n",
      "  warnings.warn(*args, **kwargs)\n"
     ]
    },
    {
     "name": "stdout",
     "output_type": "stream",
     "text": [
      "\t mAP: 0.022254889830946922\n",
      "\t mAP50: 0.0546683743596077\n"
     ]
    },
    {
     "name": "stderr",
     "output_type": "stream",
     "text": [
      "100%|██████████| 22/22 [03:15<00:00,  8.87s/it]\n"
     ]
    },
    {
     "name": "stdout",
     "output_type": "stream",
     "text": [
      "Epoch 16/20, Loss: 21.23400056362152\n"
     ]
    },
    {
     "name": "stderr",
     "output_type": "stream",
     "text": [
      "100%|██████████| 4/4 [00:10<00:00,  2.65s/it]\n",
      "c:\\Users\\Student\\bioe486\\envs\\Lib\\site-packages\\torchmetrics\\utilities\\prints.py:43: UserWarning: Encountered more than 100 detections in a single image. This means that certain detections with the lowest scores will be ignored, that may have an undesirable impact on performance. Please consider adjusting the `max_detection_threshold` to suit your use case. To disable this warning, set attribute class `warn_on_many_detections=False`, after initializing the metric.\n",
      "  warnings.warn(*args, **kwargs)\n"
     ]
    },
    {
     "name": "stdout",
     "output_type": "stream",
     "text": [
      "\t mAP: 0.05337265878915787\n",
      "\t mAP50: 0.0997956395149231\n"
     ]
    },
    {
     "name": "stderr",
     "output_type": "stream",
     "text": [
      "100%|██████████| 22/22 [03:14<00:00,  8.85s/it]\n"
     ]
    },
    {
     "name": "stdout",
     "output_type": "stream",
     "text": [
      "Epoch 17/20, Loss: 19.282694458961487\n"
     ]
    },
    {
     "name": "stderr",
     "output_type": "stream",
     "text": [
      "100%|██████████| 4/4 [00:10<00:00,  2.61s/it]\n",
      "c:\\Users\\Student\\bioe486\\envs\\Lib\\site-packages\\torchmetrics\\utilities\\prints.py:43: UserWarning: Encountered more than 100 detections in a single image. This means that certain detections with the lowest scores will be ignored, that may have an undesirable impact on performance. Please consider adjusting the `max_detection_threshold` to suit your use case. To disable this warning, set attribute class `warn_on_many_detections=False`, after initializing the metric.\n",
      "  warnings.warn(*args, **kwargs)\n"
     ]
    },
    {
     "name": "stdout",
     "output_type": "stream",
     "text": [
      "\t mAP: 0.03352297097444534\n",
      "\t mAP50: 0.08703453093767166\n"
     ]
    },
    {
     "name": "stderr",
     "output_type": "stream",
     "text": [
      "100%|██████████| 22/22 [03:14<00:00,  8.84s/it]\n"
     ]
    },
    {
     "name": "stdout",
     "output_type": "stream",
     "text": [
      "Epoch 18/20, Loss: 18.59555345773697\n"
     ]
    },
    {
     "name": "stderr",
     "output_type": "stream",
     "text": [
      "100%|██████████| 4/4 [00:10<00:00,  2.67s/it]\n",
      "c:\\Users\\Student\\bioe486\\envs\\Lib\\site-packages\\torchmetrics\\utilities\\prints.py:43: UserWarning: Encountered more than 100 detections in a single image. This means that certain detections with the lowest scores will be ignored, that may have an undesirable impact on performance. Please consider adjusting the `max_detection_threshold` to suit your use case. To disable this warning, set attribute class `warn_on_many_detections=False`, after initializing the metric.\n",
      "  warnings.warn(*args, **kwargs)\n"
     ]
    },
    {
     "name": "stdout",
     "output_type": "stream",
     "text": [
      "\t mAP: 0.07411473244428635\n",
      "\t mAP50: 0.15393657982349396\n"
     ]
    },
    {
     "name": "stderr",
     "output_type": "stream",
     "text": [
      "100%|██████████| 22/22 [03:14<00:00,  8.85s/it]\n"
     ]
    },
    {
     "name": "stdout",
     "output_type": "stream",
     "text": [
      "Epoch 19/20, Loss: 18.151317715644836\n"
     ]
    },
    {
     "name": "stderr",
     "output_type": "stream",
     "text": [
      "100%|██████████| 4/4 [00:10<00:00,  2.68s/it]\n",
      "c:\\Users\\Student\\bioe486\\envs\\Lib\\site-packages\\torchmetrics\\utilities\\prints.py:43: UserWarning: Encountered more than 100 detections in a single image. This means that certain detections with the lowest scores will be ignored, that may have an undesirable impact on performance. Please consider adjusting the `max_detection_threshold` to suit your use case. To disable this warning, set attribute class `warn_on_many_detections=False`, after initializing the metric.\n",
      "  warnings.warn(*args, **kwargs)\n"
     ]
    },
    {
     "name": "stdout",
     "output_type": "stream",
     "text": [
      "\t mAP: 0.04290224611759186\n",
      "\t mAP50: 0.122629813849926\n"
     ]
    },
    {
     "name": "stderr",
     "output_type": "stream",
     "text": [
      "100%|██████████| 22/22 [03:17<00:00,  8.97s/it]\n"
     ]
    },
    {
     "name": "stdout",
     "output_type": "stream",
     "text": [
      "Epoch 20/20, Loss: 18.892428696155548\n"
     ]
    },
    {
     "name": "stderr",
     "output_type": "stream",
     "text": [
      "100%|██████████| 4/4 [00:10<00:00,  2.63s/it]"
     ]
    },
    {
     "name": "stdout",
     "output_type": "stream",
     "text": [
      "\t mAP: 0.03867454454302788\n",
      "\t mAP50: 0.0842345803976059\n"
     ]
    },
    {
     "name": "stderr",
     "output_type": "stream",
     "text": [
      "\n",
      "c:\\Users\\Student\\bioe486\\envs\\Lib\\site-packages\\torchmetrics\\utilities\\prints.py:43: UserWarning: Encountered more than 100 detections in a single image. This means that certain detections with the lowest scores will be ignored, that may have an undesirable impact on performance. Please consider adjusting the `max_detection_threshold` to suit your use case. To disable this warning, set attribute class `warn_on_many_detections=False`, after initializing the metric.\n",
      "  warnings.warn(*args, **kwargs)\n"
     ]
    }
   ],
   "source": [
    "from torchmetrics.detection.mean_ap import MeanAveragePrecision\n",
    "from tqdm.auto import tqdm\n",
    "num_epochs = 20\n",
    "#config_retina.NUM_EPOCHS\n",
    "device = torch.device('cuda') if torch.cuda.is_available() else torch.device('cpu')\n",
    "model.to(device)\n",
    "    \n",
    "# parameters\n",
    "params = [p for p in model.parameters() if p.requires_grad]\n",
    "optimizer = torch.optim.SGD(params, lr=0.005,\n",
    "                                momentum=0.9, weight_decay=0.0005)\n",
    "\n",
    "len_dataloader = len(train_dataloader)\n",
    "\n",
    "train_losses = []  # Store epoch losses\n",
    "val_loss = []\n",
    "\n",
    "map_list = []\n",
    "map_50_list = []\n",
    "\n",
    "for epoch in range(num_epochs):\n",
    "    model.train()\n",
    "    epoch_loss = 0\n",
    "    prog_bar = tqdm(train_dataloader, total=len_dataloader)\n",
    "    for i, data in enumerate(prog_bar):\n",
    "        optimizer.zero_grad()\n",
    "        imgs, annotations = data\n",
    "        imgs = list(img.to(device) for img in imgs)\n",
    "        annotations = [{k: v.to(device) for k, v in t.items()} for t in annotations]\n",
    "        loss_dict = model(imgs, annotations)\n",
    "        losses = sum(loss for loss in loss_dict.values())  \n",
    "        loss_value = losses.item()      \n",
    "\n",
    "        \n",
    "        losses.backward()\n",
    "        optimizer.step() \n",
    "\n",
    "        epoch_loss += losses.item()  # Make sure to use .item() to extract scalar from tensor\n",
    "    prog_bar.set_description(desc=f\"Loss: {loss_value:.4f}\")\n",
    "    print(f\"Epoch {epoch+1}/{num_epochs}, Loss: {epoch_loss}\")\n",
    "    train_losses.append(epoch_loss)\n",
    "\n",
    "    # validation\n",
    "    model.eval()\n",
    "    prog_bar = tqdm(valid_dataloader, total=len(valid_dataloader))\n",
    "    test_loss = 0\n",
    "    target = []\n",
    "    preds = []  \n",
    "    for i, data in enumerate(prog_bar):\n",
    "        imgs, annotations = data    \n",
    "        imgs = list(img.to(device) for img in imgs)\n",
    "        annotations = [{k: v.to(device) for k, v in t.items()} for t in annotations]\n",
    "        with torch.no_grad():\n",
    "            outputs = model(imgs)\n",
    "            \n",
    "        #losses = sum(loss for loss in outputs.values()) \n",
    "        #test_loss += losses.item()\n",
    "\n",
    "        for i in range(len(imgs)):\n",
    "            true_dict = dict()\n",
    "            preds_dict = dict()\n",
    "            true_dict['boxes'] = annotations[i]['boxes'].detach().cpu()\n",
    "            true_dict['labels'] = annotations[i]['labels'].detach().cpu()\n",
    "            preds_dict['boxes'] = outputs[i]['boxes'].detach().cpu()\n",
    "            preds_dict['scores'] = outputs[i]['scores'].detach().cpu()\n",
    "            preds_dict['labels'] = outputs[i]['labels'].detach().cpu()\n",
    "            preds.append(preds_dict)\n",
    "            target.append(true_dict)\n",
    "\n",
    "    metric = MeanAveragePrecision()\n",
    "    metric.update(preds, target)\n",
    "    metric_summary = metric.compute()\n",
    "\n",
    "    map_list.append(metric_summary['map'])\n",
    "    map_50_list.append(metric_summary['map_50'])\n",
    "\n",
    "    print(f'\\t mAP: {metric_summary['map']}')\n",
    "    print(f'\\t mAP50: {metric_summary['map_50']}')\n",
    "    \n",
    "    val_loss.append(test_loss)"
   ]
  },
  {
   "cell_type": "code",
   "execution_count": 16,
   "id": "06dc2a99",
   "metadata": {},
   "outputs": [],
   "source": [
    "torch.save(model.state_dict, 'retina_model_weights')"
   ]
  },
  {
   "cell_type": "code",
   "execution_count": 17,
   "id": "eece9aa8",
   "metadata": {},
   "outputs": [
    {
     "name": "stderr",
     "output_type": "stream",
     "text": [
      "100%|██████████| 22/22 [03:27<00:00,  9.42s/it]\n"
     ]
    },
    {
     "name": "stdout",
     "output_type": "stream",
     "text": [
      "Epoch 21/45, Loss: 17.430433988571167\n"
     ]
    },
    {
     "name": "stderr",
     "output_type": "stream",
     "text": [
      "100%|██████████| 4/4 [00:11<00:00,  2.82s/it]\n",
      "c:\\Users\\Student\\bioe486\\envs\\Lib\\site-packages\\torchmetrics\\utilities\\prints.py:43: UserWarning: Encountered more than 100 detections in a single image. This means that certain detections with the lowest scores will be ignored, that may have an undesirable impact on performance. Please consider adjusting the `max_detection_threshold` to suit your use case. To disable this warning, set attribute class `warn_on_many_detections=False`, after initializing the metric.\n",
      "  warnings.warn(*args, **kwargs)\n"
     ]
    },
    {
     "name": "stdout",
     "output_type": "stream",
     "text": [
      "\t mAP: 0.04794437438249588\n",
      "\t mAP50: 0.11085053533315659\n"
     ]
    },
    {
     "name": "stderr",
     "output_type": "stream",
     "text": [
      "100%|██████████| 22/22 [03:36<00:00,  9.86s/it]\n"
     ]
    },
    {
     "name": "stdout",
     "output_type": "stream",
     "text": [
      "Epoch 22/45, Loss: 17.41530692577362\n"
     ]
    },
    {
     "name": "stderr",
     "output_type": "stream",
     "text": [
      "100%|██████████| 4/4 [00:11<00:00,  2.79s/it]\n",
      "c:\\Users\\Student\\bioe486\\envs\\Lib\\site-packages\\torchmetrics\\utilities\\prints.py:43: UserWarning: Encountered more than 100 detections in a single image. This means that certain detections with the lowest scores will be ignored, that may have an undesirable impact on performance. Please consider adjusting the `max_detection_threshold` to suit your use case. To disable this warning, set attribute class `warn_on_many_detections=False`, after initializing the metric.\n",
      "  warnings.warn(*args, **kwargs)\n"
     ]
    },
    {
     "name": "stdout",
     "output_type": "stream",
     "text": [
      "\t mAP: 0.029535988345742226\n",
      "\t mAP50: 0.07504533976316452\n"
     ]
    },
    {
     "name": "stderr",
     "output_type": "stream",
     "text": [
      "100%|██████████| 22/22 [03:23<00:00,  9.25s/it]\n"
     ]
    },
    {
     "name": "stdout",
     "output_type": "stream",
     "text": [
      "Epoch 23/45, Loss: 22.411727368831635\n"
     ]
    },
    {
     "name": "stderr",
     "output_type": "stream",
     "text": [
      "100%|██████████| 4/4 [00:11<00:00,  2.77s/it]\n",
      "c:\\Users\\Student\\bioe486\\envs\\Lib\\site-packages\\torchmetrics\\utilities\\prints.py:43: UserWarning: Encountered more than 100 detections in a single image. This means that certain detections with the lowest scores will be ignored, that may have an undesirable impact on performance. Please consider adjusting the `max_detection_threshold` to suit your use case. To disable this warning, set attribute class `warn_on_many_detections=False`, after initializing the metric.\n",
      "  warnings.warn(*args, **kwargs)\n"
     ]
    },
    {
     "name": "stdout",
     "output_type": "stream",
     "text": [
      "\t mAP: 0.05403607338666916\n",
      "\t mAP50: 0.10644024610519409\n"
     ]
    },
    {
     "name": "stderr",
     "output_type": "stream",
     "text": [
      "100%|██████████| 22/22 [03:21<00:00,  9.17s/it]\n"
     ]
    },
    {
     "name": "stdout",
     "output_type": "stream",
     "text": [
      "Epoch 24/45, Loss: 19.099215745925903\n"
     ]
    },
    {
     "name": "stderr",
     "output_type": "stream",
     "text": [
      "100%|██████████| 4/4 [00:11<00:00,  2.77s/it]\n",
      "c:\\Users\\Student\\bioe486\\envs\\Lib\\site-packages\\torchmetrics\\utilities\\prints.py:43: UserWarning: Encountered more than 100 detections in a single image. This means that certain detections with the lowest scores will be ignored, that may have an undesirable impact on performance. Please consider adjusting the `max_detection_threshold` to suit your use case. To disable this warning, set attribute class `warn_on_many_detections=False`, after initializing the metric.\n",
      "  warnings.warn(*args, **kwargs)\n"
     ]
    },
    {
     "name": "stdout",
     "output_type": "stream",
     "text": [
      "\t mAP: 0.018487796187400818\n",
      "\t mAP50: 0.04939313605427742\n"
     ]
    },
    {
     "name": "stderr",
     "output_type": "stream",
     "text": [
      "100%|██████████| 22/22 [03:20<00:00,  9.12s/it]\n"
     ]
    },
    {
     "name": "stdout",
     "output_type": "stream",
     "text": [
      "Epoch 25/45, Loss: 16.836400508880615\n"
     ]
    },
    {
     "name": "stderr",
     "output_type": "stream",
     "text": [
      "100%|██████████| 4/4 [00:11<00:00,  2.76s/it]\n",
      "c:\\Users\\Student\\bioe486\\envs\\Lib\\site-packages\\torchmetrics\\utilities\\prints.py:43: UserWarning: Encountered more than 100 detections in a single image. This means that certain detections with the lowest scores will be ignored, that may have an undesirable impact on performance. Please consider adjusting the `max_detection_threshold` to suit your use case. To disable this warning, set attribute class `warn_on_many_detections=False`, after initializing the metric.\n",
      "  warnings.warn(*args, **kwargs)\n"
     ]
    },
    {
     "name": "stdout",
     "output_type": "stream",
     "text": [
      "\t mAP: 0.03788992762565613\n",
      "\t mAP50: 0.1316029280424118\n"
     ]
    },
    {
     "name": "stderr",
     "output_type": "stream",
     "text": [
      "100%|██████████| 22/22 [03:21<00:00,  9.14s/it]\n"
     ]
    },
    {
     "name": "stdout",
     "output_type": "stream",
     "text": [
      "Epoch 26/45, Loss: 16.760064959526062\n"
     ]
    },
    {
     "name": "stderr",
     "output_type": "stream",
     "text": [
      "100%|██████████| 4/4 [00:11<00:00,  2.79s/it]\n",
      "c:\\Users\\Student\\bioe486\\envs\\Lib\\site-packages\\torchmetrics\\utilities\\prints.py:43: UserWarning: Encountered more than 100 detections in a single image. This means that certain detections with the lowest scores will be ignored, that may have an undesirable impact on performance. Please consider adjusting the `max_detection_threshold` to suit your use case. To disable this warning, set attribute class `warn_on_many_detections=False`, after initializing the metric.\n",
      "  warnings.warn(*args, **kwargs)\n"
     ]
    },
    {
     "name": "stdout",
     "output_type": "stream",
     "text": [
      "\t mAP: 0.045850224792957306\n",
      "\t mAP50: 0.08190980553627014\n"
     ]
    },
    {
     "name": "stderr",
     "output_type": "stream",
     "text": [
      "100%|██████████| 22/22 [03:21<00:00,  9.16s/it]\n"
     ]
    },
    {
     "name": "stdout",
     "output_type": "stream",
     "text": [
      "Epoch 27/45, Loss: 15.963255047798157\n"
     ]
    },
    {
     "name": "stderr",
     "output_type": "stream",
     "text": [
      "100%|██████████| 4/4 [00:11<00:00,  2.78s/it]\n",
      "c:\\Users\\Student\\bioe486\\envs\\Lib\\site-packages\\torchmetrics\\utilities\\prints.py:43: UserWarning: Encountered more than 100 detections in a single image. This means that certain detections with the lowest scores will be ignored, that may have an undesirable impact on performance. Please consider adjusting the `max_detection_threshold` to suit your use case. To disable this warning, set attribute class `warn_on_many_detections=False`, after initializing the metric.\n",
      "  warnings.warn(*args, **kwargs)\n"
     ]
    },
    {
     "name": "stdout",
     "output_type": "stream",
     "text": [
      "\t mAP: 0.04835934191942215\n",
      "\t mAP50: 0.1424550563097\n"
     ]
    },
    {
     "name": "stderr",
     "output_type": "stream",
     "text": [
      "100%|██████████| 22/22 [03:20<00:00,  9.13s/it]\n"
     ]
    },
    {
     "name": "stdout",
     "output_type": "stream",
     "text": [
      "Epoch 28/45, Loss: 16.11361637711525\n"
     ]
    },
    {
     "name": "stderr",
     "output_type": "stream",
     "text": [
      "100%|██████████| 4/4 [00:11<00:00,  2.78s/it]\n",
      "c:\\Users\\Student\\bioe486\\envs\\Lib\\site-packages\\torchmetrics\\utilities\\prints.py:43: UserWarning: Encountered more than 100 detections in a single image. This means that certain detections with the lowest scores will be ignored, that may have an undesirable impact on performance. Please consider adjusting the `max_detection_threshold` to suit your use case. To disable this warning, set attribute class `warn_on_many_detections=False`, after initializing the metric.\n",
      "  warnings.warn(*args, **kwargs)\n"
     ]
    },
    {
     "name": "stdout",
     "output_type": "stream",
     "text": [
      "\t mAP: 0.05342398211359978\n",
      "\t mAP50: 0.10875079035758972\n"
     ]
    },
    {
     "name": "stderr",
     "output_type": "stream",
     "text": [
      "100%|██████████| 22/22 [03:20<00:00,  9.12s/it]\n"
     ]
    },
    {
     "name": "stdout",
     "output_type": "stream",
     "text": [
      "Epoch 29/45, Loss: 15.488146603107452\n"
     ]
    },
    {
     "name": "stderr",
     "output_type": "stream",
     "text": [
      "100%|██████████| 4/4 [00:11<00:00,  2.81s/it]\n",
      "c:\\Users\\Student\\bioe486\\envs\\Lib\\site-packages\\torchmetrics\\utilities\\prints.py:43: UserWarning: Encountered more than 100 detections in a single image. This means that certain detections with the lowest scores will be ignored, that may have an undesirable impact on performance. Please consider adjusting the `max_detection_threshold` to suit your use case. To disable this warning, set attribute class `warn_on_many_detections=False`, after initializing the metric.\n",
      "  warnings.warn(*args, **kwargs)\n"
     ]
    },
    {
     "name": "stdout",
     "output_type": "stream",
     "text": [
      "\t mAP: 0.03804876282811165\n",
      "\t mAP50: 0.08088522404432297\n"
     ]
    },
    {
     "name": "stderr",
     "output_type": "stream",
     "text": [
      "100%|██████████| 22/22 [03:20<00:00,  9.14s/it]\n"
     ]
    },
    {
     "name": "stdout",
     "output_type": "stream",
     "text": [
      "Epoch 30/45, Loss: 14.756917029619217\n"
     ]
    },
    {
     "name": "stderr",
     "output_type": "stream",
     "text": [
      "100%|██████████| 4/4 [00:11<00:00,  2.79s/it]\n"
     ]
    },
    {
     "name": "stdout",
     "output_type": "stream",
     "text": [
      "\t mAP: 0.03081086277961731\n",
      "\t mAP50: 0.09299147129058838\n"
     ]
    },
    {
     "name": "stderr",
     "output_type": "stream",
     "text": [
      "100%|██████████| 22/22 [03:20<00:00,  9.13s/it]\n"
     ]
    },
    {
     "name": "stdout",
     "output_type": "stream",
     "text": [
      "Epoch 31/45, Loss: 16.038194924592972\n"
     ]
    },
    {
     "name": "stderr",
     "output_type": "stream",
     "text": [
      "100%|██████████| 4/4 [00:11<00:00,  2.76s/it]\n",
      "c:\\Users\\Student\\bioe486\\envs\\Lib\\site-packages\\torchmetrics\\utilities\\prints.py:43: UserWarning: Encountered more than 100 detections in a single image. This means that certain detections with the lowest scores will be ignored, that may have an undesirable impact on performance. Please consider adjusting the `max_detection_threshold` to suit your use case. To disable this warning, set attribute class `warn_on_many_detections=False`, after initializing the metric.\n",
      "  warnings.warn(*args, **kwargs)\n"
     ]
    },
    {
     "name": "stdout",
     "output_type": "stream",
     "text": [
      "\t mAP: 0.06133662909269333\n",
      "\t mAP50: 0.15525685250759125\n"
     ]
    },
    {
     "name": "stderr",
     "output_type": "stream",
     "text": [
      "100%|██████████| 22/22 [03:21<00:00,  9.14s/it]\n"
     ]
    },
    {
     "name": "stdout",
     "output_type": "stream",
     "text": [
      "Epoch 32/45, Loss: 17.26025080680847\n"
     ]
    },
    {
     "name": "stderr",
     "output_type": "stream",
     "text": [
      "100%|██████████| 4/4 [00:11<00:00,  2.77s/it]\n",
      "c:\\Users\\Student\\bioe486\\envs\\Lib\\site-packages\\torchmetrics\\utilities\\prints.py:43: UserWarning: Encountered more than 100 detections in a single image. This means that certain detections with the lowest scores will be ignored, that may have an undesirable impact on performance. Please consider adjusting the `max_detection_threshold` to suit your use case. To disable this warning, set attribute class `warn_on_many_detections=False`, after initializing the metric.\n",
      "  warnings.warn(*args, **kwargs)\n"
     ]
    },
    {
     "name": "stdout",
     "output_type": "stream",
     "text": [
      "\t mAP: 0.0605936199426651\n",
      "\t mAP50: 0.12625707685947418\n"
     ]
    },
    {
     "name": "stderr",
     "output_type": "stream",
     "text": [
      "100%|██████████| 22/22 [03:20<00:00,  9.12s/it]\n"
     ]
    },
    {
     "name": "stdout",
     "output_type": "stream",
     "text": [
      "Epoch 33/45, Loss: 14.383270025253296\n"
     ]
    },
    {
     "name": "stderr",
     "output_type": "stream",
     "text": [
      "100%|██████████| 4/4 [00:11<00:00,  2.80s/it]\n",
      "c:\\Users\\Student\\bioe486\\envs\\Lib\\site-packages\\torchmetrics\\utilities\\prints.py:43: UserWarning: Encountered more than 100 detections in a single image. This means that certain detections with the lowest scores will be ignored, that may have an undesirable impact on performance. Please consider adjusting the `max_detection_threshold` to suit your use case. To disable this warning, set attribute class `warn_on_many_detections=False`, after initializing the metric.\n",
      "  warnings.warn(*args, **kwargs)\n"
     ]
    },
    {
     "name": "stdout",
     "output_type": "stream",
     "text": [
      "\t mAP: 0.0635879635810852\n",
      "\t mAP50: 0.14952395856380463\n"
     ]
    },
    {
     "name": "stderr",
     "output_type": "stream",
     "text": [
      "100%|██████████| 22/22 [03:22<00:00,  9.18s/it]\n"
     ]
    },
    {
     "name": "stdout",
     "output_type": "stream",
     "text": [
      "Epoch 34/45, Loss: 13.864063650369644\n"
     ]
    },
    {
     "name": "stderr",
     "output_type": "stream",
     "text": [
      "100%|██████████| 4/4 [00:11<00:00,  2.78s/it]\n",
      "c:\\Users\\Student\\bioe486\\envs\\Lib\\site-packages\\torchmetrics\\utilities\\prints.py:43: UserWarning: Encountered more than 100 detections in a single image. This means that certain detections with the lowest scores will be ignored, that may have an undesirable impact on performance. Please consider adjusting the `max_detection_threshold` to suit your use case. To disable this warning, set attribute class `warn_on_many_detections=False`, after initializing the metric.\n",
      "  warnings.warn(*args, **kwargs)\n"
     ]
    },
    {
     "name": "stdout",
     "output_type": "stream",
     "text": [
      "\t mAP: 0.067816823720932\n",
      "\t mAP50: 0.13609439134597778\n"
     ]
    },
    {
     "name": "stderr",
     "output_type": "stream",
     "text": [
      "100%|██████████| 22/22 [03:20<00:00,  9.13s/it]\n"
     ]
    },
    {
     "name": "stdout",
     "output_type": "stream",
     "text": [
      "Epoch 35/45, Loss: 15.493225455284119\n"
     ]
    },
    {
     "name": "stderr",
     "output_type": "stream",
     "text": [
      "100%|██████████| 4/4 [00:11<00:00,  2.78s/it]\n",
      "c:\\Users\\Student\\bioe486\\envs\\Lib\\site-packages\\torchmetrics\\utilities\\prints.py:43: UserWarning: Encountered more than 100 detections in a single image. This means that certain detections with the lowest scores will be ignored, that may have an undesirable impact on performance. Please consider adjusting the `max_detection_threshold` to suit your use case. To disable this warning, set attribute class `warn_on_many_detections=False`, after initializing the metric.\n",
      "  warnings.warn(*args, **kwargs)\n"
     ]
    },
    {
     "name": "stdout",
     "output_type": "stream",
     "text": [
      "\t mAP: 0.06414526700973511\n",
      "\t mAP50: 0.12879790365695953\n"
     ]
    },
    {
     "name": "stderr",
     "output_type": "stream",
     "text": [
      "100%|██████████| 22/22 [03:22<00:00,  9.19s/it]\n"
     ]
    },
    {
     "name": "stdout",
     "output_type": "stream",
     "text": [
      "Epoch 36/45, Loss: 13.755894035100937\n"
     ]
    },
    {
     "name": "stderr",
     "output_type": "stream",
     "text": [
      "100%|██████████| 4/4 [00:11<00:00,  2.76s/it]\n",
      "c:\\Users\\Student\\bioe486\\envs\\Lib\\site-packages\\torchmetrics\\utilities\\prints.py:43: UserWarning: Encountered more than 100 detections in a single image. This means that certain detections with the lowest scores will be ignored, that may have an undesirable impact on performance. Please consider adjusting the `max_detection_threshold` to suit your use case. To disable this warning, set attribute class `warn_on_many_detections=False`, after initializing the metric.\n",
      "  warnings.warn(*args, **kwargs)\n"
     ]
    },
    {
     "name": "stdout",
     "output_type": "stream",
     "text": [
      "\t mAP: 0.059620775282382965\n",
      "\t mAP50: 0.19748476147651672\n"
     ]
    },
    {
     "name": "stderr",
     "output_type": "stream",
     "text": [
      "100%|██████████| 22/22 [03:22<00:00,  9.19s/it]\n"
     ]
    },
    {
     "name": "stdout",
     "output_type": "stream",
     "text": [
      "Epoch 37/45, Loss: 13.67242294549942\n"
     ]
    },
    {
     "name": "stderr",
     "output_type": "stream",
     "text": [
      "100%|██████████| 4/4 [00:11<00:00,  2.76s/it]\n",
      "c:\\Users\\Student\\bioe486\\envs\\Lib\\site-packages\\torchmetrics\\utilities\\prints.py:43: UserWarning: Encountered more than 100 detections in a single image. This means that certain detections with the lowest scores will be ignored, that may have an undesirable impact on performance. Please consider adjusting the `max_detection_threshold` to suit your use case. To disable this warning, set attribute class `warn_on_many_detections=False`, after initializing the metric.\n",
      "  warnings.warn(*args, **kwargs)\n"
     ]
    },
    {
     "name": "stdout",
     "output_type": "stream",
     "text": [
      "\t mAP: 0.06943343579769135\n",
      "\t mAP50: 0.16551965475082397\n"
     ]
    },
    {
     "name": "stderr",
     "output_type": "stream",
     "text": [
      "100%|██████████| 22/22 [03:20<00:00,  9.13s/it]\n"
     ]
    },
    {
     "name": "stdout",
     "output_type": "stream",
     "text": [
      "Epoch 38/45, Loss: 12.763061732053757\n"
     ]
    },
    {
     "name": "stderr",
     "output_type": "stream",
     "text": [
      "100%|██████████| 4/4 [00:11<00:00,  2.81s/it]\n",
      "c:\\Users\\Student\\bioe486\\envs\\Lib\\site-packages\\torchmetrics\\utilities\\prints.py:43: UserWarning: Encountered more than 100 detections in a single image. This means that certain detections with the lowest scores will be ignored, that may have an undesirable impact on performance. Please consider adjusting the `max_detection_threshold` to suit your use case. To disable this warning, set attribute class `warn_on_many_detections=False`, after initializing the metric.\n",
      "  warnings.warn(*args, **kwargs)\n"
     ]
    },
    {
     "name": "stdout",
     "output_type": "stream",
     "text": [
      "\t mAP: 0.0532541386783123\n",
      "\t mAP50: 0.09161372482776642\n"
     ]
    },
    {
     "name": "stderr",
     "output_type": "stream",
     "text": [
      "100%|██████████| 22/22 [03:21<00:00,  9.16s/it]\n"
     ]
    },
    {
     "name": "stdout",
     "output_type": "stream",
     "text": [
      "Epoch 39/45, Loss: 12.329360634088516\n"
     ]
    },
    {
     "name": "stderr",
     "output_type": "stream",
     "text": [
      "100%|██████████| 4/4 [00:11<00:00,  2.78s/it]\n",
      "c:\\Users\\Student\\bioe486\\envs\\Lib\\site-packages\\torchmetrics\\utilities\\prints.py:43: UserWarning: Encountered more than 100 detections in a single image. This means that certain detections with the lowest scores will be ignored, that may have an undesirable impact on performance. Please consider adjusting the `max_detection_threshold` to suit your use case. To disable this warning, set attribute class `warn_on_many_detections=False`, after initializing the metric.\n",
      "  warnings.warn(*args, **kwargs)\n"
     ]
    },
    {
     "name": "stdout",
     "output_type": "stream",
     "text": [
      "\t mAP: 0.056017398834228516\n",
      "\t mAP50: 0.1727469563484192\n"
     ]
    },
    {
     "name": "stderr",
     "output_type": "stream",
     "text": [
      "100%|██████████| 22/22 [03:22<00:00,  9.19s/it]\n"
     ]
    },
    {
     "name": "stdout",
     "output_type": "stream",
     "text": [
      "Epoch 40/45, Loss: 12.481014043092728\n"
     ]
    },
    {
     "name": "stderr",
     "output_type": "stream",
     "text": [
      "100%|██████████| 4/4 [00:11<00:00,  2.80s/it]\n",
      "c:\\Users\\Student\\bioe486\\envs\\Lib\\site-packages\\torchmetrics\\utilities\\prints.py:43: UserWarning: Encountered more than 100 detections in a single image. This means that certain detections with the lowest scores will be ignored, that may have an undesirable impact on performance. Please consider adjusting the `max_detection_threshold` to suit your use case. To disable this warning, set attribute class `warn_on_many_detections=False`, after initializing the metric.\n",
      "  warnings.warn(*args, **kwargs)\n"
     ]
    },
    {
     "name": "stdout",
     "output_type": "stream",
     "text": [
      "\t mAP: 0.06002062186598778\n",
      "\t mAP50: 0.1226474866271019\n"
     ]
    },
    {
     "name": "stderr",
     "output_type": "stream",
     "text": [
      "100%|██████████| 22/22 [03:21<00:00,  9.15s/it]\n"
     ]
    },
    {
     "name": "stdout",
     "output_type": "stream",
     "text": [
      "Epoch 41/45, Loss: 11.890093892812729\n"
     ]
    },
    {
     "name": "stderr",
     "output_type": "stream",
     "text": [
      "100%|██████████| 4/4 [00:11<00:00,  2.76s/it]\n",
      "c:\\Users\\Student\\bioe486\\envs\\Lib\\site-packages\\torchmetrics\\utilities\\prints.py:43: UserWarning: Encountered more than 100 detections in a single image. This means that certain detections with the lowest scores will be ignored, that may have an undesirable impact on performance. Please consider adjusting the `max_detection_threshold` to suit your use case. To disable this warning, set attribute class `warn_on_many_detections=False`, after initializing the metric.\n",
      "  warnings.warn(*args, **kwargs)\n"
     ]
    },
    {
     "name": "stdout",
     "output_type": "stream",
     "text": [
      "\t mAP: 0.04146072268486023\n",
      "\t mAP50: 0.10489963740110397\n"
     ]
    },
    {
     "name": "stderr",
     "output_type": "stream",
     "text": [
      "100%|██████████| 22/22 [03:21<00:00,  9.16s/it]\n"
     ]
    },
    {
     "name": "stdout",
     "output_type": "stream",
     "text": [
      "Epoch 42/45, Loss: 13.645388692617416\n"
     ]
    },
    {
     "name": "stderr",
     "output_type": "stream",
     "text": [
      "100%|██████████| 4/4 [00:11<00:00,  2.78s/it]\n",
      "c:\\Users\\Student\\bioe486\\envs\\Lib\\site-packages\\torchmetrics\\utilities\\prints.py:43: UserWarning: Encountered more than 100 detections in a single image. This means that certain detections with the lowest scores will be ignored, that may have an undesirable impact on performance. Please consider adjusting the `max_detection_threshold` to suit your use case. To disable this warning, set attribute class `warn_on_many_detections=False`, after initializing the metric.\n",
      "  warnings.warn(*args, **kwargs)\n"
     ]
    },
    {
     "name": "stdout",
     "output_type": "stream",
     "text": [
      "\t mAP: 0.03921719640493393\n",
      "\t mAP50: 0.09467238932847977\n"
     ]
    },
    {
     "name": "stderr",
     "output_type": "stream",
     "text": [
      "100%|██████████| 22/22 [03:21<00:00,  9.14s/it]\n"
     ]
    },
    {
     "name": "stdout",
     "output_type": "stream",
     "text": [
      "Epoch 43/45, Loss: 13.638316214084625\n"
     ]
    },
    {
     "name": "stderr",
     "output_type": "stream",
     "text": [
      "100%|██████████| 4/4 [00:11<00:00,  2.81s/it]\n",
      "c:\\Users\\Student\\bioe486\\envs\\Lib\\site-packages\\torchmetrics\\utilities\\prints.py:43: UserWarning: Encountered more than 100 detections in a single image. This means that certain detections with the lowest scores will be ignored, that may have an undesirable impact on performance. Please consider adjusting the `max_detection_threshold` to suit your use case. To disable this warning, set attribute class `warn_on_many_detections=False`, after initializing the metric.\n",
      "  warnings.warn(*args, **kwargs)\n"
     ]
    },
    {
     "name": "stdout",
     "output_type": "stream",
     "text": [
      "\t mAP: 0.03916783258318901\n",
      "\t mAP50: 0.11315270513296127\n"
     ]
    },
    {
     "name": "stderr",
     "output_type": "stream",
     "text": [
      "100%|██████████| 22/22 [03:21<00:00,  9.17s/it]\n"
     ]
    },
    {
     "name": "stdout",
     "output_type": "stream",
     "text": [
      "Epoch 44/45, Loss: 12.030918091535568\n"
     ]
    },
    {
     "name": "stderr",
     "output_type": "stream",
     "text": [
      "100%|██████████| 4/4 [00:11<00:00,  2.78s/it]\n",
      "c:\\Users\\Student\\bioe486\\envs\\Lib\\site-packages\\torchmetrics\\utilities\\prints.py:43: UserWarning: Encountered more than 100 detections in a single image. This means that certain detections with the lowest scores will be ignored, that may have an undesirable impact on performance. Please consider adjusting the `max_detection_threshold` to suit your use case. To disable this warning, set attribute class `warn_on_many_detections=False`, after initializing the metric.\n",
      "  warnings.warn(*args, **kwargs)\n"
     ]
    },
    {
     "name": "stdout",
     "output_type": "stream",
     "text": [
      "\t mAP: 0.048653606325387955\n",
      "\t mAP50: 0.16730211675167084\n"
     ]
    },
    {
     "name": "stderr",
     "output_type": "stream",
     "text": [
      "100%|██████████| 22/22 [03:21<00:00,  9.15s/it]\n"
     ]
    },
    {
     "name": "stdout",
     "output_type": "stream",
     "text": [
      "Epoch 45/45, Loss: 11.56927227973938\n"
     ]
    },
    {
     "name": "stderr",
     "output_type": "stream",
     "text": [
      "100%|██████████| 4/4 [00:11<00:00,  2.76s/it]"
     ]
    },
    {
     "name": "stdout",
     "output_type": "stream",
     "text": [
      "\t mAP: 0.06557954102754593\n",
      "\t mAP50: 0.17418602108955383\n"
     ]
    },
    {
     "name": "stderr",
     "output_type": "stream",
     "text": [
      "\n",
      "c:\\Users\\Student\\bioe486\\envs\\Lib\\site-packages\\torchmetrics\\utilities\\prints.py:43: UserWarning: Encountered more than 100 detections in a single image. This means that certain detections with the lowest scores will be ignored, that may have an undesirable impact on performance. Please consider adjusting the `max_detection_threshold` to suit your use case. To disable this warning, set attribute class `warn_on_many_detections=False`, after initializing the metric.\n",
      "  warnings.warn(*args, **kwargs)\n"
     ]
    }
   ],
   "source": [
    "num_epochs = 25\n",
    "for epoch in range(num_epochs):\n",
    "    model.train()\n",
    "    epoch_loss = 0\n",
    "    prog_bar = tqdm(train_dataloader, total=len_dataloader)\n",
    "    for i, data in enumerate(prog_bar):\n",
    "        optimizer.zero_grad()\n",
    "        imgs, annotations = data\n",
    "        imgs = list(img.to(device) for img in imgs)\n",
    "        annotations = [{k: v.to(device) for k, v in t.items()} for t in annotations]\n",
    "        loss_dict = model(imgs, annotations)\n",
    "        losses = sum(loss for loss in loss_dict.values())  \n",
    "        loss_value = losses.item()      \n",
    "\n",
    "        \n",
    "        losses.backward()\n",
    "        optimizer.step() \n",
    "\n",
    "        epoch_loss += losses.item()  # Make sure to use .item() to extract scalar from tensor\n",
    "    prog_bar.set_description(desc=f\"Loss: {loss_value:.4f}\")\n",
    "    print(f\"Epoch {epoch+21}/{45}, Loss: {epoch_loss}\")\n",
    "    train_losses.append(epoch_loss)\n",
    "\n",
    "    # validation\n",
    "    model.eval()\n",
    "    prog_bar = tqdm(valid_dataloader, total=len(valid_dataloader))\n",
    "    test_loss = 0\n",
    "    target = []\n",
    "    preds = []  \n",
    "    for i, data in enumerate(prog_bar):\n",
    "        imgs, annotations = data    \n",
    "        imgs = list(img.to(device) for img in imgs)\n",
    "        annotations = [{k: v.to(device) for k, v in t.items()} for t in annotations]\n",
    "        with torch.no_grad():\n",
    "            outputs = model(imgs)\n",
    "            \n",
    "        #losses = sum(loss for loss in outputs.values()) \n",
    "        #test_loss += losses.item()\n",
    "\n",
    "        for i in range(len(imgs)):\n",
    "            true_dict = dict()\n",
    "            preds_dict = dict()\n",
    "            true_dict['boxes'] = annotations[i]['boxes'].detach().cpu()\n",
    "            true_dict['labels'] = annotations[i]['labels'].detach().cpu()\n",
    "            preds_dict['boxes'] = outputs[i]['boxes'].detach().cpu()\n",
    "            preds_dict['scores'] = outputs[i]['scores'].detach().cpu()\n",
    "            preds_dict['labels'] = outputs[i]['labels'].detach().cpu()\n",
    "            preds.append(preds_dict)\n",
    "            target.append(true_dict)\n",
    "\n",
    "    metric = MeanAveragePrecision()\n",
    "    metric.update(preds, target)\n",
    "    metric_summary = metric.compute()\n",
    "\n",
    "    map_list.append(metric_summary['map'])\n",
    "    map_50_list.append(metric_summary['map_50'])\n",
    "\n",
    "    torch.save(model.state_dict, f'retinaNet/retina_model_weights_epoch{epoch+21}')\n",
    "\n",
    "    print(f'\\t mAP: {metric_summary['map']}')\n",
    "    print(f'\\t mAP50: {metric_summary['map_50']}')\n",
    "    \n",
    "    val_loss.append(test_loss)"
   ]
  },
  {
   "cell_type": "code",
   "execution_count": 21,
   "id": "b4935362",
   "metadata": {},
   "outputs": [
    {
     "ename": "TypeError",
     "evalue": "RetinaNet.__init__() missing 2 required positional arguments: 'backbone' and 'num_classes'",
     "output_type": "error",
     "traceback": [
      "\u001b[1;31m---------------------------------------------------------------------------\u001b[0m",
      "\u001b[1;31mTypeError\u001b[0m                                 Traceback (most recent call last)",
      "Cell \u001b[1;32mIn[21], line 3\u001b[0m\n\u001b[0;32m      1\u001b[0m \u001b[38;5;28;01mfrom\u001b[39;00m \u001b[38;5;21;01mtorchvision\u001b[39;00m\u001b[38;5;21;01m.\u001b[39;00m\u001b[38;5;21;01mmodels\u001b[39;00m\u001b[38;5;21;01m.\u001b[39;00m\u001b[38;5;21;01mdetection\u001b[39;00m \u001b[38;5;28;01mimport\u001b[39;00m retinanet_resnet50_fpn_v2\n\u001b[0;32m      2\u001b[0m \u001b[38;5;28;01mfrom\u001b[39;00m \u001b[38;5;21;01mtorchvision\u001b[39;00m\u001b[38;5;21;01m.\u001b[39;00m\u001b[38;5;21;01mmodels\u001b[39;00m\u001b[38;5;21;01m.\u001b[39;00m\u001b[38;5;21;01mdetection\u001b[39;00m \u001b[38;5;28;01mimport\u001b[39;00m RetinaNet\n\u001b[1;32m----> 3\u001b[0m eval_model \u001b[38;5;241m=\u001b[39m  RetinaNet()\n\u001b[0;32m      4\u001b[0m eval_model\u001b[38;5;241m.\u001b[39mload_state_dict(torch\u001b[38;5;241m.\u001b[39mload(\u001b[38;5;124m'\u001b[39m\u001b[38;5;124mretinaNet/retina_model_weights_epoch36\u001b[39m\u001b[38;5;124m'\u001b[39m, weights_only\u001b[38;5;241m=\u001b[39m\u001b[38;5;28;01mTrue\u001b[39;00m))\n",
      "\u001b[1;31mTypeError\u001b[0m: RetinaNet.__init__() missing 2 required positional arguments: 'backbone' and 'num_classes'"
     ]
    }
   ],
   "source": [
    "from torchvision.models.detection import retinanet_resnet50_fpn_v2\n",
    "from torchvision.models.detection import RetinaNet\n",
    "eval_model =  RetinaNet()\n",
    "eval_model.load_state_dict(torch.load('retinaNet/retina_model_weights_epoch36', weights_only=True))"
   ]
  },
  {
   "cell_type": "code",
   "execution_count": 23,
   "id": "3d5965ef",
   "metadata": {},
   "outputs": [],
   "source": [
    "eval_model = model"
   ]
  },
  {
   "cell_type": "code",
   "execution_count": 24,
   "id": "359f9197",
   "metadata": {},
   "outputs": [],
   "source": [
    "for imgs, annotations in test_dataloader:\n",
    "        imgs = list(img.to(device) for img in imgs)\n",
    "        annotations = [{k: v.to(device) for k, v in t.items()} for t in annotations]\n",
    "        break"
   ]
  },
  {
   "cell_type": "code",
   "execution_count": 25,
   "id": "38c65294",
   "metadata": {},
   "outputs": [
    {
     "data": {
      "text/plain": [
       "[{'boxes': tensor([[252.7872, 255.3826, 309.2448, 312.6548],\n",
       "          [252.7872, 255.3826, 309.2448, 312.6548],\n",
       "          [227.8997, 234.2686, 332.4196, 336.1864],\n",
       "          [227.8997, 234.2686, 332.4196, 336.1864],\n",
       "          [262.4458, 264.3670, 296.2942, 297.9651],\n",
       "          [270.0424, 272.2577, 288.8954, 290.7163],\n",
       "          [253.6438, 250.6258, 298.0062, 293.0299],\n",
       "          [212.3247, 232.7098, 391.1565, 402.3083],\n",
       "          [254.7303, 260.6120, 343.1992, 343.1299],\n",
       "          [259.5281, 261.4747, 299.2812, 300.6406],\n",
       "          [255.6868, 215.9415, 264.9865, 225.2488],\n",
       "          [264.4607, 263.2921, 288.5603, 287.0394],\n",
       "          [171.5087, 175.9172, 416.2407, 445.8619],\n",
       "          [289.0553, 293.4239, 373.5698, 370.8596],\n",
       "          [208.6297, 236.2004, 392.4946, 414.9644],\n",
       "          [253.4926, 217.3486, 263.1249, 228.0246],\n",
       "          [171.5087, 175.9172, 416.2407, 445.8619],\n",
       "          [254.7901, 212.0025, 265.8242, 223.0594],\n",
       "          [244.8311, 286.9393, 355.5076, 361.7357],\n",
       "          [268.4479, 268.0192, 290.8980, 288.8999],\n",
       "          [242.2216, 205.3896, 270.6252, 235.1215],\n",
       "          [272.1564, 275.6053, 295.0059, 294.3282],\n",
       "          [272.2353, 267.6720, 295.1436, 288.8536],\n",
       "          [266.4528, 272.4733, 314.7273, 312.7693],\n",
       "          [178.5721,  54.7632, 195.6555,  67.9602],\n",
       "          [177.9408,  60.0590, 195.6720,  73.1324],\n",
       "          [242.6501, 256.3444, 279.5007, 303.9903],\n",
       "          [274.2762, 305.7753, 357.1344, 396.8388],\n",
       "          [250.4042, 210.1895, 269.2791, 230.8367],\n",
       "          [256.5624, 259.4081, 342.1472, 346.9566],\n",
       "          [248.8367, 239.6077, 295.8862, 279.5689],\n",
       "          [231.7724, 263.9057, 241.7413, 272.9939],\n",
       "          [182.5635,  50.4019, 195.4454,  62.2331],\n",
       "          [263.0612, 269.1801, 284.7076, 293.7896],\n",
       "          [242.2216, 205.3896, 270.6252, 235.1215],\n",
       "          [177.4930,  64.4428, 195.2090,  78.0194],\n",
       "          [234.5388, 277.6123, 402.5356, 465.1194],\n",
       "          [252.7334, 213.6337, 264.9927, 226.5216],\n",
       "          [251.5300, 269.8689, 382.0879, 388.0567],\n",
       "          [232.3967, 234.5372, 302.5710, 309.8822],\n",
       "          [230.1613, 265.7091, 240.6827, 275.7897],\n",
       "          [269.4023, 258.5770, 290.1290, 279.3401],\n",
       "          [172.3480,  55.1185, 187.2617,  79.1979],\n",
       "          [244.0836, 255.2638, 289.1599, 296.7722],\n",
       "          [232.3967, 234.5372, 302.5710, 309.8822],\n",
       "          [172.7249,  49.9353, 192.8779,  63.4826],\n",
       "          [187.1870,  55.8008, 198.4400,  73.8299],\n",
       "          [248.3519, 203.5129, 267.5704, 221.9384],\n",
       "          [280.4583, 271.4309, 299.2245, 294.6096],\n",
       "          [280.2325, 353.9096, 321.8633, 395.2905],\n",
       "          [260.1311, 338.7150, 342.9943, 413.8929],\n",
       "          [230.0047, 256.4568, 244.2361, 270.2058],\n",
       "          [252.0806, 296.9637, 324.3038, 402.8954],\n",
       "          [162.9680,  59.7383, 189.3592,  74.0322],\n",
       "          [182.0459,  46.4232, 194.9008,  57.2979],\n",
       "          [241.0712, 223.2082, 290.6071, 264.0814],\n",
       "          [188.2011,  55.3640, 201.8062,  66.9680],\n",
       "          [259.2639, 268.9287, 278.2046, 284.4501],\n",
       "          [258.0981, 215.3663, 268.7520, 228.4884],\n",
       "          [237.6496, 226.8127, 274.8837, 283.7832],\n",
       "          [280.0892, 341.8196, 330.7491, 380.7493],\n",
       "          [163.7094,  54.6062, 189.3777,  68.9976],\n",
       "          [230.9373, 208.4449, 276.3654, 252.5648],\n",
       "          [289.0553, 293.4239, 373.5698, 370.8596],\n",
       "          [246.8892, 212.4650, 260.7570, 229.0396],\n",
       "          [187.0622,  50.6159, 199.4805,  62.0645],\n",
       "          [255.1587, 243.1852, 298.8607, 290.1464],\n",
       "          [177.7493,  69.9320, 194.7118,  82.9357],\n",
       "          [315.3245, 307.1791, 363.4135, 354.7162],\n",
       "          [168.2206,  51.3131, 200.1852,  83.0973],\n",
       "          [299.9638, 316.5308, 353.3614, 365.6071],\n",
       "          [224.1406, 251.6973, 269.1218, 285.0580],\n",
       "          [262.3601, 261.7397, 284.9219, 283.4105],\n",
       "          [172.7268,  47.4867, 187.2501,  70.0644],\n",
       "          [325.4027, 317.5223, 345.1680, 335.6995],\n",
       "          [190.3899,  60.9414, 205.0202,  72.4127],\n",
       "          [244.8311, 286.9393, 355.5076, 361.7357],\n",
       "          [252.7953, 213.2651, 262.7610, 224.9083],\n",
       "          [184.5386,  65.3108, 198.6667,  77.4068],\n",
       "          [272.4945, 119.6538, 406.1450, 407.3532],\n",
       "          [273.2330, 274.0753, 296.0579, 296.1472],\n",
       "          [258.3341, 273.9235, 277.7137, 289.3603],\n",
       "          [166.5477,  55.4187, 182.5885,  80.2500],\n",
       "          [266.8812, 249.6034, 314.1302, 296.7969],\n",
       "          [247.8823, 209.0716, 266.5321, 230.9630],\n",
       "          [219.9695, 236.5020, 269.2286, 273.8321],\n",
       "          [172.3364,  45.3540, 192.5922,  58.1618],\n",
       "          [232.8616, 255.0062, 307.0799, 356.0565],\n",
       "          [166.4741,  34.0941, 487.9056, 404.5525],\n",
       "          [329.8640, 323.5396, 348.8036, 341.2640],\n",
       "          [198.8547,  56.2944, 212.0562,  67.6252],\n",
       "          [293.6378, 331.2302, 335.9548, 388.0402],\n",
       "          [168.7588,  47.4127, 200.5063,  78.9724],\n",
       "          [267.8650, 286.5360, 318.9618, 324.2551],\n",
       "          [177.6182,  50.8124, 199.2576,  74.3487],\n",
       "          [235.3503, 269.9976, 347.1352, 410.5518],\n",
       "          [221.7968, 253.9972, 247.7200, 281.6324],\n",
       "          [177.0960,  52.5430, 193.8270,  70.4580],\n",
       "          [266.4528, 272.4733, 314.7273, 312.7693],\n",
       "          [273.7341, 263.8522, 298.1466, 282.0114],\n",
       "          [194.5790,  52.6590, 205.2648,  70.4918],\n",
       "          [256.0152, 204.8768, 274.5797, 220.8978],\n",
       "          [301.0245, 340.2055, 351.2366, 375.5154],\n",
       "          [264.2976, 276.7972, 280.4677, 297.3262],\n",
       "          [272.2695, 263.3346, 296.2211, 285.9399],\n",
       "          [294.7109, 368.5950, 312.8594, 385.1570],\n",
       "          [186.4194,  46.3186, 201.4854,  57.1421],\n",
       "          [195.9238,  50.3767, 212.4926,  62.8820],\n",
       "          [266.8812, 249.6034, 314.1302, 296.7969],\n",
       "          [162.4145,  69.3217, 189.3511,  83.9942],\n",
       "          [273.4319, 279.1248, 289.0219, 297.7412],\n",
       "          [223.1598, 215.6832, 291.5591, 291.3681],\n",
       "          [182.5595,  40.3047, 198.3350,  52.8973],\n",
       "          [172.3296,  64.2210, 186.9074,  88.2538],\n",
       "          [230.2095, 262.3604, 242.3984, 274.4185],\n",
       "          [243.9157, 194.8857, 411.9028, 371.2567],\n",
       "          [258.5164, 271.5261, 295.7681, 322.1136],\n",
       "          [284.8514, 321.2421, 334.5340, 364.4353],\n",
       "          [195.1077,  62.6264, 205.1561,  78.6881],\n",
       "          [248.6628, 301.2921, 340.9350, 394.1098],\n",
       "          [227.9557, 263.6865, 237.9467, 274.3021],\n",
       "          [248.1924, 285.8888, 416.4930, 452.0609],\n",
       "          [283.6715, 260.6485, 321.5412, 314.4094],\n",
       "          [245.0371, 206.9958, 262.9832, 224.8756],\n",
       "          [255.2836, 217.7673, 265.4159, 228.2294],\n",
       "          [187.9705,  62.8119, 199.5155,  82.9200],\n",
       "          [257.2949, 209.7720, 272.5814, 225.9049],\n",
       "          [255.6730, 212.0933, 267.0991, 223.2098],\n",
       "          [170.0909,  56.8444, 190.0602,  76.2396],\n",
       "          [199.5958,  61.9321, 211.7608,  72.3615],\n",
       "          [223.1598, 215.6832, 291.5591, 291.3681],\n",
       "          [181.5103,  56.9635, 196.9107,  74.3328],\n",
       "          [176.4738,  45.0316, 208.0517,  78.4380],\n",
       "          [241.1860, 277.3302, 287.3353, 313.5221],\n",
       "          [221.7968, 253.9972, 247.7200, 281.6324],\n",
       "          [245.0371, 206.9958, 262.9832, 224.8756],\n",
       "          [157.2794,  64.2817, 184.9890,  79.2281],\n",
       "          [169.1875,  74.5788, 193.2338,  88.2662],\n",
       "          [182.0615,  49.0301, 196.2843,  65.2049],\n",
       "          [202.9999, 191.5983, 395.9218, 320.1857],\n",
       "          [237.0693, 229.3830, 279.1351, 280.3873],\n",
       "          [280.0088, 283.1390, 299.0720, 298.5819],\n",
       "          [166.7298,  45.4202, 182.6602,  70.7336],\n",
       "          [200.4932, 204.7511, 324.1349, 358.2944],\n",
       "          [269.7144, 258.3344, 290.4955, 280.1098],\n",
       "          [203.6033,  56.3635, 216.4680,  68.0300]], grad_fn=<StackBackward0>),\n",
       "  'scores': tensor([0.4371, 0.4125, 0.2720, 0.2524, 0.2257, 0.2232, 0.1793, 0.1769, 0.1737,\n",
       "          0.1681, 0.1679, 0.1659, 0.1640, 0.1619, 0.1598, 0.1556, 0.1518, 0.1490,\n",
       "          0.1471, 0.1426, 0.1394, 0.1386, 0.1345, 0.1343, 0.1263, 0.1254, 0.1229,\n",
       "          0.1223, 0.1215, 0.1197, 0.1174, 0.1137, 0.1103, 0.1092, 0.1068, 0.1051,\n",
       "          0.1030, 0.1026, 0.1008, 0.1002, 0.0983, 0.0952, 0.0948, 0.0922, 0.0920,\n",
       "          0.0906, 0.0887, 0.0885, 0.0880, 0.0876, 0.0876, 0.0863, 0.0859, 0.0855,\n",
       "          0.0854, 0.0839, 0.0836, 0.0836, 0.0832, 0.0827, 0.0826, 0.0817, 0.0808,\n",
       "          0.0792, 0.0791, 0.0781, 0.0770, 0.0763, 0.0762, 0.0750, 0.0748, 0.0746,\n",
       "          0.0740, 0.0735, 0.0735, 0.0730, 0.0723, 0.0719, 0.0713, 0.0712, 0.0710,\n",
       "          0.0703, 0.0685, 0.0679, 0.0677, 0.0671, 0.0665, 0.0655, 0.0652, 0.0650,\n",
       "          0.0643, 0.0636, 0.0629, 0.0624, 0.0622, 0.0621, 0.0621, 0.0621, 0.0619,\n",
       "          0.0619, 0.0618, 0.0618, 0.0616, 0.0616, 0.0611, 0.0610, 0.0608, 0.0608,\n",
       "          0.0602, 0.0597, 0.0594, 0.0590, 0.0590, 0.0589, 0.0587, 0.0585, 0.0584,\n",
       "          0.0583, 0.0576, 0.0574, 0.0574, 0.0571, 0.0569, 0.0566, 0.0566, 0.0563,\n",
       "          0.0563, 0.0560, 0.0554, 0.0552, 0.0544, 0.0543, 0.0537, 0.0533, 0.0532,\n",
       "          0.0529, 0.0529, 0.0528, 0.0526, 0.0525, 0.0519, 0.0517, 0.0510, 0.0510,\n",
       "          0.0509, 0.0503], grad_fn=<IndexBackward0>),\n",
       "  'labels': tensor([2, 1, 1, 2, 1, 1, 1, 1, 1, 2, 1, 1, 1, 1, 2, 1, 2, 1, 1, 2, 1, 1, 1, 1,\n",
       "          1, 1, 1, 1, 1, 2, 1, 1, 1, 1, 2, 1, 1, 2, 2, 2, 1, 1, 1, 2, 1, 1, 1, 1,\n",
       "          1, 1, 1, 1, 1, 1, 1, 1, 1, 1, 1, 1, 1, 1, 1, 2, 1, 1, 2, 1, 1, 1, 1, 1,\n",
       "          2, 1, 1, 1, 2, 1, 1, 1, 2, 1, 1, 1, 2, 1, 1, 1, 1, 1, 1, 1, 2, 1, 1, 1,\n",
       "          1, 2, 2, 1, 1, 1, 1, 1, 2, 1, 1, 1, 2, 1, 1, 2, 1, 1, 2, 2, 1, 1, 1, 2,\n",
       "          1, 2, 1, 2, 2, 1, 1, 2, 2, 1, 1, 2, 1, 1, 2, 1, 1, 1, 2, 1, 2, 1, 1, 2,\n",
       "          2, 1])},\n",
       " {'boxes': tensor([[327.5206, 130.5613, 339.2342, 140.4566],\n",
       "          [332.8223, 225.9114, 347.7358, 238.9473],\n",
       "          [326.2400, 133.1806, 337.8961, 144.9925],\n",
       "          [286.1809, 210.7718, 302.2044, 224.2545],\n",
       "          [173.1676, 245.4289, 185.7121, 257.7895],\n",
       "          [330.0771, 129.5198, 346.1838, 140.0391],\n",
       "          [326.1183, 123.3631, 342.1021, 137.0057],\n",
       "          [286.0500, 204.0511, 306.8621, 221.0188],\n",
       "          [329.9314, 131.4659, 340.5536, 144.8836],\n",
       "          [331.5487, 227.8593, 343.6233, 241.8309],\n",
       "          [169.4404, 239.1688, 184.9012, 255.0004],\n",
       "          [330.7033, 218.3928, 352.3337, 237.1270],\n",
       "          [318.4066, 130.0536, 331.9545, 143.9335],\n",
       "          [347.3423, 128.5777, 356.8232, 138.2809],\n",
       "          [238.9393, 197.7486, 257.1653, 208.4902],\n",
       "          [317.3289, 120.8296, 337.6375, 137.5533],\n",
       "          [315.0031, 129.5392, 329.1445, 139.8183],\n",
       "          [340.5049, 130.8961, 354.9075, 141.7426],\n",
       "          [236.1930, 197.3815, 249.6504, 208.3032],\n",
       "          [252.3384, 197.4886, 264.4265, 207.3406],\n",
       "          [346.1853, 130.0948, 361.1581, 142.1073],\n",
       "          [338.5303, 127.9361, 349.0924, 141.9047],\n",
       "          [256.0484, 194.7548, 265.4597, 204.2928],\n",
       "          [245.4313, 194.5345, 262.6724, 205.8763],\n",
       "          [168.8358, 243.2003, 181.6877, 259.6469],\n",
       "          [329.2292, 188.9843, 341.0974, 200.4261],\n",
       "          [324.9106, 131.7872, 335.1852, 141.6428],\n",
       "          [308.1128, 120.5575, 329.1444, 137.0661],\n",
       "          [317.8734, 125.2821, 344.3357, 152.5814],\n",
       "          [288.4315, 102.4560, 298.6610, 112.4073],\n",
       "          [334.8200, 123.9364, 352.8281, 135.7150],\n",
       "          [309.4305, 128.4848, 319.0862, 138.2530],\n",
       "          [239.8149, 202.3745, 254.8067, 214.4889],\n",
       "          [344.1602, 128.7651, 354.0697, 139.7137],\n",
       "          [337.6081, 222.5103, 353.1742, 242.3387],\n",
       "          [287.6786, 196.1473, 312.9641, 213.4171],\n",
       "          [326.3794, 128.7640, 339.7998, 142.2286],\n",
       "          [244.0850, 196.3965, 256.9020, 214.0838],\n",
       "          [287.0984,  97.5118, 301.9962, 109.7911],\n",
       "          [279.6941, 203.6282, 299.3906, 220.1502],\n",
       "          [301.1050, 195.8618, 317.2169, 209.7948],\n",
       "          [326.1427, 191.8256, 338.9550, 202.0960],\n",
       "          [244.1264, 203.3679, 260.2476, 215.8114],\n",
       "          [328.2529, 183.8326, 342.9940, 198.2293],\n",
       "          [288.2794, 105.2392, 299.0044, 116.7517],\n",
       "          [282.1188, 211.6900, 295.7652, 226.3388]], grad_fn=<StackBackward0>),\n",
       "  'scores': tensor([0.1072, 0.0902, 0.0888, 0.0853, 0.0842, 0.0788, 0.0751, 0.0740, 0.0732,\n",
       "          0.0709, 0.0702, 0.0701, 0.0695, 0.0689, 0.0679, 0.0674, 0.0672, 0.0665,\n",
       "          0.0659, 0.0655, 0.0640, 0.0632, 0.0631, 0.0630, 0.0619, 0.0612, 0.0598,\n",
       "          0.0584, 0.0577, 0.0572, 0.0572, 0.0559, 0.0555, 0.0544, 0.0543, 0.0536,\n",
       "          0.0535, 0.0532, 0.0532, 0.0525, 0.0524, 0.0523, 0.0521, 0.0519, 0.0506,\n",
       "          0.0505], grad_fn=<IndexBackward0>),\n",
       "  'labels': tensor([1, 1, 1, 1, 1, 1, 1, 1, 1, 1, 1, 1, 1, 1, 1, 1, 1, 1, 1, 1, 1, 1, 1, 1,\n",
       "          1, 1, 1, 1, 1, 1, 1, 1, 1, 1, 1, 1, 2, 1, 1, 1, 1, 1, 1, 1, 1, 1])},\n",
       " {'boxes': tensor([[348.8569,  83.4930, 384.4726, 118.2353],\n",
       "          [348.8569,  83.4930, 384.4726, 118.2353],\n",
       "          [307.0476, 102.1456, 334.7699, 129.1883],\n",
       "          [340.9017,  78.8874, 392.2764, 127.1163],\n",
       "          [354.2402,  88.4015, 380.3635, 111.3015],\n",
       "          [307.0476, 102.1456, 334.7699, 129.1883],\n",
       "          [340.9017,  78.8874, 392.2764, 127.1163],\n",
       "          [357.9308,  93.2590, 377.2435, 116.8667],\n",
       "          [354.2402,  88.4015, 380.3635, 111.3015],\n",
       "          [363.4853,  92.7050, 386.8527, 109.8040],\n",
       "          [312.7430, 108.0898, 329.5455, 128.1890],\n",
       "          [347.7159,  95.7838, 373.3345, 115.2159],\n",
       "          [357.8979, 104.3293, 377.6541, 120.9817],\n",
       "          [361.4210,  84.5826, 383.4248, 106.5773],\n",
       "          [366.0756,  99.5775, 388.7756, 114.9777],\n",
       "          [349.4166,  84.7954, 371.9940, 105.3475],\n",
       "          [359.5933,  92.9549, 383.7901, 117.0817],\n",
       "          [346.6363,  88.0175, 362.0966, 108.7799],\n",
       "          [327.3724,  93.5236, 374.0294, 128.3082],\n",
       "          [361.4210,  84.5826, 383.4248, 106.5773],\n",
       "          [359.7867,  89.9751, 391.0938, 121.5746],\n",
       "          [355.1664,  93.6666, 373.8457, 116.7691],\n",
       "          [316.1361, 109.0278, 339.8578, 125.6732],\n",
       "          [310.4421, 115.4474, 334.6739, 135.2026],\n",
       "          [309.3237,  88.3557, 352.8283, 137.9676],\n",
       "          [370.9137,  94.6317, 391.7040, 110.9387],\n",
       "          [349.6227,  84.2943, 371.4254, 106.4207],\n",
       "          [351.3167,  98.8252, 368.4201, 123.6537],\n",
       "          [358.8363, 100.5819, 378.3761, 122.2251],\n",
       "          [364.8771, 104.7027, 386.4561, 120.4163],\n",
       "          [368.3344,  84.2328, 386.8593, 102.7286],\n",
       "          [362.6350,  80.9484, 403.5429, 129.7839],\n",
       "          [324.3841,  70.8238, 385.9554, 138.7699],\n",
       "          [359.6953, 111.3405, 372.3124, 124.0229],\n",
       "          [305.8011, 108.1482, 324.3883, 129.9660],\n",
       "          [314.3389,  99.2739, 341.0673, 121.5295],\n",
       "          [377.7986, 100.9961, 393.8013, 113.9753],\n",
       "          [324.3841,  70.8238, 385.9554, 138.7699],\n",
       "          [354.4146,  82.0207, 377.5854,  99.0748],\n",
       "          [369.0776,  82.7492, 383.9280,  95.8714],\n",
       "          [337.7274,  86.5093, 355.3872,  99.3552],\n",
       "          [341.4745,  91.6012, 367.0526, 110.5523],\n",
       "          [341.5421,  89.0685, 357.8498, 107.4337],\n",
       "          [367.1435,  96.1098, 389.4334, 118.0106],\n",
       "          [356.8050,  79.0867, 399.1916, 111.7610],\n",
       "          [312.7430, 108.0898, 329.5455, 128.1890],\n",
       "          [345.5542,  89.8658, 368.4490, 111.2127],\n",
       "          [334.0309,  98.7314, 387.6014, 137.3637],\n",
       "          [368.3344,  84.2328, 386.8593, 102.7286],\n",
       "          [317.5800, 103.5622, 364.7175, 137.4064],\n",
       "          [332.7281,  89.6253, 348.3010, 101.6588],\n",
       "          [302.3726, 102.8729, 342.2170, 141.4355],\n",
       "          [318.8338,  93.5183, 344.2389, 111.9852],\n",
       "          [327.1634,  86.4608, 372.9141, 131.3675],\n",
       "          [298.1949,  88.8622, 352.2274, 140.4776],\n",
       "          [306.4319, 117.8434, 326.5677, 133.0035],\n",
       "          [332.6512,  87.3878, 343.2353,  97.1560],\n",
       "          [346.7566,  84.8836, 363.4366, 102.8693],\n",
       "          [325.1994, 106.3279, 344.1942, 121.1507],\n",
       "          [308.8612,  95.2665, 330.9986, 116.8975],\n",
       "          [317.0242,  90.7566, 336.0474, 119.0155],\n",
       "          [349.6287,  99.9918, 372.1862, 121.9765],\n",
       "          [247.3340, 240.0540, 259.0418, 252.2204],\n",
       "          [332.5268,  80.2471, 368.8029, 121.2010],\n",
       "          [323.4399,  99.9296, 348.1530, 118.2708],\n",
       "          [372.9634, 104.0562, 392.5715, 119.0640],\n",
       "          [346.3891,  69.1250, 391.4738, 108.5299],\n",
       "          [347.4492,  71.2615, 412.6883, 139.9718],\n",
       "          [319.8899, 118.1894, 341.4426, 134.9847],\n",
       "          [326.5017,  92.4583, 351.0090, 110.5525],\n",
       "          [311.9598, 123.9382, 334.5783, 140.9344],\n",
       "          [348.6034,  82.3683, 365.4594,  95.4633],\n",
       "          [351.8017, 108.8755, 368.3209, 129.0972],\n",
       "          [364.3187, 107.3319, 379.1454, 123.4865],\n",
       "          [358.2391,  83.3091, 401.5618, 123.8593],\n",
       "          [330.6104,  89.5521, 341.7472,  99.8131],\n",
       "          [346.1706,  96.8721, 361.5768, 120.0386],\n",
       "          [316.4566, 106.7755, 341.2497, 128.6222],\n",
       "          [423.5961, 118.8645, 435.7325, 129.2352],\n",
       "          [312.0106, 110.4977, 333.8112, 136.2119],\n",
       "          [349.9952,  93.1466, 380.5433, 130.4019],\n",
       "          [325.2342,  88.7063, 340.6648, 109.3682],\n",
       "          [322.4542, 115.1245, 341.7588, 128.9787],\n",
       "          [333.2531,  77.1346, 375.0641, 115.3681],\n",
       "          [333.8541,  99.2413, 356.6471, 115.5812],\n",
       "          [347.4492,  71.2615, 412.6883, 139.9718],\n",
       "          [339.7314,  87.5868, 359.9186, 106.4296],\n",
       "          [357.6027, 114.3715, 370.7602, 126.9683],\n",
       "          [369.6312,  95.1630, 414.3881, 129.0354],\n",
       "          [335.4908,  83.1550, 353.5031,  94.8404],\n",
       "          [342.2464,  93.8306, 357.2278, 114.9085],\n",
       "          [373.0702,  92.7737, 393.4231, 113.2488],\n",
       "          [304.3760,  98.7331, 325.8319, 121.6050],\n",
       "          [337.0590, 105.2953, 355.4840, 118.6960],\n",
       "          [348.2916,  86.9437, 360.0505, 100.6066],\n",
       "          [318.7415,  78.7124, 364.4402, 110.8108],\n",
       "          [308.0108, 110.3206, 355.6518, 149.1111]], grad_fn=<StackBackward0>),\n",
       "  'scores': tensor([0.4679, 0.4464, 0.3374, 0.3238, 0.3207, 0.2778, 0.2775, 0.2651, 0.2479,\n",
       "          0.2067, 0.2056, 0.1948, 0.1914, 0.1811, 0.1744, 0.1741, 0.1631, 0.1515,\n",
       "          0.1472, 0.1455, 0.1443, 0.1386, 0.1325, 0.1286, 0.1212, 0.1192, 0.1170,\n",
       "          0.1169, 0.1123, 0.1123, 0.1119, 0.1096, 0.1076, 0.1076, 0.1047, 0.1045,\n",
       "          0.1044, 0.1034, 0.1031, 0.1028, 0.0988, 0.0982, 0.0968, 0.0956, 0.0939,\n",
       "          0.0931, 0.0916, 0.0887, 0.0878, 0.0870, 0.0851, 0.0834, 0.0825, 0.0813,\n",
       "          0.0804, 0.0802, 0.0784, 0.0782, 0.0775, 0.0761, 0.0757, 0.0755, 0.0741,\n",
       "          0.0729, 0.0727, 0.0727, 0.0725, 0.0720, 0.0716, 0.0710, 0.0705, 0.0702,\n",
       "          0.0683, 0.0676, 0.0674, 0.0671, 0.0657, 0.0650, 0.0649, 0.0647, 0.0639,\n",
       "          0.0639, 0.0638, 0.0626, 0.0607, 0.0603, 0.0588, 0.0577, 0.0576, 0.0574,\n",
       "          0.0568, 0.0566, 0.0564, 0.0563, 0.0562, 0.0531, 0.0515],\n",
       "         grad_fn=<IndexBackward0>),\n",
       "  'labels': tensor([1, 2, 1, 1, 1, 2, 2, 1, 2, 1, 1, 1, 1, 1, 1, 1, 2, 1, 1, 2, 1, 2, 1, 1,\n",
       "          1, 1, 2, 1, 2, 1, 1, 1, 1, 1, 1, 1, 1, 2, 1, 1, 1, 1, 1, 2, 1, 2, 2, 1,\n",
       "          2, 1, 1, 1, 1, 2, 2, 1, 1, 2, 1, 1, 1, 2, 1, 1, 1, 1, 1, 1, 1, 1, 1, 1,\n",
       "          1, 1, 2, 1, 1, 2, 1, 2, 1, 1, 1, 2, 1, 2, 2, 1, 1, 1, 1, 2, 2, 1, 1, 1,\n",
       "          1])},\n",
       " {'boxes': tensor([[253.6579, 122.8157, 280.8518, 149.2130],\n",
       "          [282.8607, 243.6172, 325.6163, 286.5930],\n",
       "          [274.7975, 238.8414, 331.1277, 292.9934],\n",
       "          [253.6579, 122.8157, 280.8518, 149.2130],\n",
       "          [289.3914, 247.2326, 318.8056, 277.2768],\n",
       "          [269.8126, 231.4033, 333.8141, 293.8999],\n",
       "          [230.1908, 265.6278, 256.6604, 291.8789],\n",
       "          [258.6846, 125.8033, 277.0132, 142.8149],\n",
       "          [294.1117, 251.6848, 315.0816, 272.0395],\n",
       "          [286.8496, 246.1649, 320.5775, 279.3159],\n",
       "          [218.1949, 252.1702, 278.1366, 307.4640],\n",
       "          [262.2504, 123.9796, 272.3936, 133.6964],\n",
       "          [230.1908, 265.6278, 256.6604, 291.8789],\n",
       "          [326.9410, 327.6885, 351.5886, 350.0994],\n",
       "          [218.1949, 252.1702, 278.1366, 307.4640],\n",
       "          [231.2838, 257.5648, 267.3749, 299.2611],\n",
       "          [257.0624, 123.0982, 269.5551, 137.7645],\n",
       "          [237.9354, 212.7197, 350.6103, 321.0975],\n",
       "          [237.2742, 270.9830, 258.2507, 289.4357],\n",
       "          [292.4716, 250.2073, 315.7937, 272.9846],\n",
       "          [237.9354, 212.7197, 350.6103, 321.0975],\n",
       "          [277.2424, 238.1143, 317.3222, 275.7426],\n",
       "          [260.5267, 122.8374, 273.8560, 135.6320],\n",
       "          [158.4265, 382.5937, 177.5154, 399.6911],\n",
       "          [258.6846, 125.8033, 277.0132, 142.8149],\n",
       "          [323.1416, 325.1271, 351.8808, 353.0181],\n",
       "          [262.6719, 122.6128, 277.4758, 136.8001],\n",
       "          [261.9157, 120.3484, 272.7451, 130.4117],\n",
       "          [254.5717, 132.3907, 274.1945, 150.1648],\n",
       "          [234.8827, 249.9952, 282.8537, 292.3171],\n",
       "          [231.0058, 236.8827, 308.7005, 307.8760],\n",
       "          [257.5201, 248.6355, 304.3025, 283.6570],\n",
       "          [231.2838, 257.5648, 267.3749, 299.2611],\n",
       "          [249.7750, 122.8550, 266.3997, 145.6071],\n",
       "          [242.4595, 120.2639, 286.2711, 157.7238],\n",
       "          [297.4649, 249.4887, 318.8213, 266.2021],\n",
       "          [153.8008, 378.1958, 181.4715, 404.7531],\n",
       "          [320.8066, 329.7947, 343.1817, 346.7237],\n",
       "          [337.5246,  59.3272, 368.6348,  73.5250],\n",
       "          [269.4550, 233.7244, 314.6334, 277.6232],\n",
       "          [192.9302, 352.4074, 208.4691, 369.0624],\n",
       "          [264.6122, 236.0851, 305.7360, 269.9773],\n",
       "          [255.8795, 138.1570, 277.1771, 154.6942],\n",
       "          [289.3159, 231.2599, 334.7923, 269.6485],\n",
       "          [338.7959,  64.4458, 375.4294,  78.4353],\n",
       "          [262.4499, 133.9463, 282.4827, 150.7683],\n",
       "          [246.9103, 257.7637, 296.0985, 293.0240],\n",
       "          [338.4480,  70.5528, 376.9259,  84.0034],\n",
       "          [334.8388,  55.6289, 361.1574,  68.7633],\n",
       "          [242.8525, 114.1282, 278.3496, 148.1938],\n",
       "          [239.1025, 264.3385, 261.2568, 281.7210],\n",
       "          [344.3508,  53.5981, 360.9177,  79.9329],\n",
       "          [333.7039,  65.0257, 360.3748,  78.7287],\n",
       "          [256.6579, 114.3192, 277.8095, 138.8630],\n",
       "          [236.4767, 112.4682, 290.6872, 162.8690],\n",
       "          [153.8008, 378.1958, 181.4715, 404.7531],\n",
       "          [257.0624, 123.0982, 269.5551, 137.7645],\n",
       "          [289.1441, 249.2104, 308.5716, 265.7927],\n",
       "          [350.4734,  58.8152, 365.7372,  85.0515],\n",
       "          [242.4246, 259.6961, 260.5575, 277.1825],\n",
       "          [244.0841, 237.6481, 292.0144, 274.6273],\n",
       "          [159.5301, 382.8915, 177.7039, 400.7379],\n",
       "          [233.5101, 279.0593, 255.9112, 299.0169],\n",
       "          [341.5135,  55.4057, 379.7318,  67.9220],\n",
       "          [332.9584,  60.4425, 352.5672,  73.0864],\n",
       "          [249.0025, 109.9454, 284.5179, 143.7253],\n",
       "          [340.9882,  75.9015, 380.9407,  88.6424],\n",
       "          [250.0533, 119.4329, 269.4198, 136.3540],\n",
       "          [249.3583, 122.5576, 271.2011, 142.6195],\n",
       "          [345.4545,  60.3227, 384.4753,  72.6769],\n",
       "          [257.5966, 117.3558, 271.9925, 132.3469],\n",
       "          [355.6605,  58.2302, 371.1346,  85.9283],\n",
       "          [299.3152, 262.1161, 320.2822, 278.6529],\n",
       "          [324.2348, 321.7908, 345.9635, 340.9480],\n",
       "          [262.8764, 140.9381, 284.3111, 154.9973],\n",
       "          [339.4869,  49.7641, 355.3172,  75.6007],\n",
       "          [162.1643, 377.9095, 183.4754, 394.5989],\n",
       "          [166.5460, 383.3530, 184.4188, 396.3505],\n",
       "          [229.0878, 275.4885, 249.4556, 294.0287],\n",
       "          [334.0691,  50.4150, 362.5526,  63.9841],\n",
       "          [257.5966, 117.3558, 271.9925, 132.3469],\n",
       "          [244.4561, 268.6855, 260.3504, 293.0796],\n",
       "          [192.9996, 346.4332, 213.0758, 365.7912],\n",
       "          [350.2680,  50.2179, 365.7706,  75.7117],\n",
       "          [249.0111, 232.6630, 315.0586, 300.6948],\n",
       "          [165.5826, 387.2865, 180.5546, 400.1102],\n",
       "          [252.6179, 366.6412, 269.6887, 380.8247],\n",
       "          [285.3603, 250.0350, 300.4581, 268.2552],\n",
       "          [344.6872,  63.2104, 360.5212,  90.5630],\n",
       "          [340.9515,  80.9241, 380.7866,  93.7130],\n",
       "          [256.6579, 114.3192, 277.8095, 138.8630],\n",
       "          [237.2742, 270.9830, 258.2507, 289.4357],\n",
       "          [249.3763, 366.6220, 262.2785, 379.2641],\n",
       "          [245.8694, 116.4393, 271.9391, 145.4465],\n",
       "          [159.4753, 388.7611, 181.0406, 406.0621],\n",
       "          [233.8171, 112.6850, 296.2749, 168.3473],\n",
       "          [280.7973, 257.4038, 334.5621, 304.8931],\n",
       "          [234.2967, 247.5665, 283.4409, 292.0179],\n",
       "          [191.9225, 354.9271, 215.2977, 375.7648],\n",
       "          [335.4500,  51.8293, 349.9839,  74.9736],\n",
       "          [303.9241, 171.1728, 319.3797, 187.1010],\n",
       "          [259.1696, 145.9005, 282.1420, 159.5525],\n",
       "          [355.0956,  48.8820, 371.4300,  76.2021],\n",
       "          [355.4801,  68.7818, 371.0523,  96.5619],\n",
       "          [284.9124, 220.4228, 330.6574, 257.1521],\n",
       "          [350.1281,  69.1060, 365.8557,  96.3939],\n",
       "          [224.3185, 233.6539, 293.4175, 316.1603],\n",
       "          [350.9619,  65.5279, 389.6094,  78.1808],\n",
       "          [261.7561, 368.0806, 279.2648, 381.3504],\n",
       "          [232.4789, 259.9763, 253.6573, 281.6427],\n",
       "          [331.0466,  56.2843, 347.1541,  68.1294],\n",
       "          [350.6498,  71.0934, 389.8798,  83.4733],\n",
       "          [251.2433, 363.2023, 268.0625, 376.5198],\n",
       "          [360.2642,  52.5912, 376.2337,  81.4681],\n",
       "          [360.3321,  63.4323, 376.3582,  91.9346],\n",
       "          [265.8648, 229.9207, 301.5813, 266.8757],\n",
       "          [290.5163, 228.0415, 334.7395, 274.7670],\n",
       "          [225.9764, 239.4641, 272.4386, 279.0937],\n",
       "          [251.2259, 242.7572, 298.8074, 286.5968],\n",
       "          [243.1831, 267.8811, 293.4920, 304.4079],\n",
       "          [221.1090, 251.9577, 260.0843, 292.9231],\n",
       "          [172.8569,  22.3246, 381.7168, 462.0688],\n",
       "          [216.3470, 272.2528, 263.6330, 313.5715],\n",
       "          [298.8052, 373.2221, 348.3283, 420.0552],\n",
       "          [296.7261, 248.5938, 339.1554, 281.9987],\n",
       "          [240.0324, 410.7645, 289.1494, 458.4966],\n",
       "          [341.6251,  56.7708, 397.0088,  87.2947],\n",
       "          [342.2252,  66.9066, 397.1417,  97.9753],\n",
       "          [253.9056, 124.5258, 291.2104, 172.5331],\n",
       "          [261.1228, 266.8924, 312.6609, 303.6029],\n",
       "          [221.1090, 251.9577, 260.0843, 292.9231],\n",
       "          [ 80.7731,  62.6368, 427.0048, 444.4455],\n",
       "          [240.0878, 233.0723, 290.4460, 277.1299]], grad_fn=<StackBackward0>),\n",
       "  'scores': tensor([0.3202, 0.3200, 0.2851, 0.2664, 0.2651, 0.2601, 0.2576, 0.2532, 0.2256,\n",
       "          0.2247, 0.2225, 0.2182, 0.2150, 0.2000, 0.1885, 0.1834, 0.1812, 0.1746,\n",
       "          0.1739, 0.1675, 0.1616, 0.1608, 0.1573, 0.1567, 0.1545, 0.1433, 0.1400,\n",
       "          0.1398, 0.1372, 0.1353, 0.1328, 0.1295, 0.1266, 0.1256, 0.1235, 0.1198,\n",
       "          0.1136, 0.1132, 0.1124, 0.1117, 0.1116, 0.1114, 0.1103, 0.1099, 0.1093,\n",
       "          0.1025, 0.1024, 0.1005, 0.1003, 0.0988, 0.0980, 0.0956, 0.0956, 0.0955,\n",
       "          0.0952, 0.0950, 0.0945, 0.0929, 0.0928, 0.0923, 0.0919, 0.0901, 0.0899,\n",
       "          0.0890, 0.0885, 0.0881, 0.0879, 0.0869, 0.0862, 0.0862, 0.0857, 0.0849,\n",
       "          0.0839, 0.0837, 0.0837, 0.0834, 0.0833, 0.0832, 0.0832, 0.0829, 0.0824,\n",
       "          0.0814, 0.0809, 0.0806, 0.0798, 0.0794, 0.0791, 0.0784, 0.0783, 0.0773,\n",
       "          0.0773, 0.0763, 0.0759, 0.0753, 0.0742, 0.0739, 0.0734, 0.0734, 0.0733,\n",
       "          0.0729, 0.0724, 0.0722, 0.0720, 0.0720, 0.0719, 0.0718, 0.0715, 0.0714,\n",
       "          0.0713, 0.0713, 0.0713, 0.0707, 0.0700, 0.0698, 0.0697, 0.0691, 0.0690,\n",
       "          0.0683, 0.0683, 0.0657, 0.0645, 0.0633, 0.0628, 0.0611, 0.0611, 0.0600,\n",
       "          0.0595, 0.0584, 0.0574, 0.0545, 0.0519, 0.0519, 0.0513],\n",
       "         grad_fn=<IndexBackward0>),\n",
       "  'labels': tensor([1, 1, 2, 2, 1, 1, 1, 1, 1, 2, 1, 1, 2, 1, 2, 1, 1, 1, 1, 2, 2, 1, 2, 1,\n",
       "          2, 2, 1, 1, 1, 1, 1, 1, 2, 1, 1, 1, 1, 1, 1, 2, 1, 1, 1, 1, 1, 1, 1, 1,\n",
       "          1, 2, 1, 1, 1, 1, 2, 2, 2, 1, 1, 1, 1, 2, 1, 1, 1, 1, 1, 1, 2, 1, 1, 1,\n",
       "          1, 1, 1, 1, 1, 1, 1, 1, 2, 1, 1, 1, 2, 1, 1, 1, 1, 1, 2, 2, 1, 1, 1, 1,\n",
       "          1, 2, 1, 1, 1, 1, 1, 1, 1, 1, 2, 1, 1, 1, 1, 1, 1, 1, 1, 2, 2, 1, 2, 1,\n",
       "          2, 2, 1, 1, 1, 1, 1, 1, 1, 1, 1, 1, 2])}]"
      ]
     },
     "execution_count": 25,
     "metadata": {},
     "output_type": "execute_result"
    }
   ],
   "source": [
    "eval_model.eval()\n",
    "preds = eval_model(imgs)\n",
    "preds"
   ]
  },
  {
   "cell_type": "code",
   "execution_count": 32,
   "id": "fbae4102",
   "metadata": {},
   "outputs": [
    {
     "data": {
      "image/png": "[encoded data removed]",
      "text/plain": [
       "<Figure size 640x480 with 2 Axes>"
      ]
     },
     "metadata": {},
     "output_type": "display_data"
    }
   ],
   "source": [
    "from plotting import plot_image\n",
    "import matplotlib.patches as patches\n",
    "idx = 0\n",
    "\n",
    "img = imgs[idx].cpu().data\n",
    "c, h, w, = img.shape\n",
    "\n",
    "fig, axs = plt.subplots(1,2)\n",
    "axs[0].imshow(img.permute(1,2,0))\n",
    "axs[0].set_title('Prediction')\n",
    "for box in preds[idx]['boxes'].detach().numpy():\n",
    "    xmin, ymin, xmax, ymax = box\n",
    "    rect = patches.Rectangle((xmin, ymin), (xmax - ymin), (ymax - ymin), linewidth = 1, edgecolor = 'r', facecolor = 'none')\n",
    "    axs[0].add_patch(rect)\n",
    "\n",
    "axs[1].imshow(img.permute(1,2,0))\n",
    "axs[1].set_title('Ground Truth')\n",
    "for box in annotations[idx]['boxes']:\n",
    "    xmin, ymin, xmax, ymax = box\n",
    "    rect = patches.Rectangle((xmin, ymin), (xmax - ymin), (ymax - ymin), linewidth = 1, edgecolor = 'r', facecolor = 'none')\n",
    "    axs[1].add_patch(rect)\n",
    "#plot_image(imgs[idx], annotations[idx])"
   ]
  },
  {
   "cell_type": "code",
   "execution_count": 28,
   "id": "4a195ca9",
   "metadata": {},
   "outputs": [
    {
     "data": {
      "image/png": "[encoded data removed]",
      "text/plain": [
       "<Figure size 640x480 with 1 Axes>"
      ]
     },
     "metadata": {},
     "output_type": "display_data"
    }
   ],
   "source": [
    "plot_image(imgs[idx], annotations[idx])"
   ]
  }
 ],
 "metadata": {
  "kernelspec": {
   "display_name": "Python 3",
   "language": "python",
   "name": "python3"
  },
  "language_info": {
   "codemirror_mode": {
    "name": "ipython",
    "version": 3
   },
   "file_extension": ".py",
   "mimetype": "text/x-python",
   "name": "python",
   "nbconvert_exporter": "python",
   "pygments_lexer": "ipython3",
   "version": "3.12.9"
  }
 },
 "nbformat": 4,
 "nbformat_minor": 5
}
